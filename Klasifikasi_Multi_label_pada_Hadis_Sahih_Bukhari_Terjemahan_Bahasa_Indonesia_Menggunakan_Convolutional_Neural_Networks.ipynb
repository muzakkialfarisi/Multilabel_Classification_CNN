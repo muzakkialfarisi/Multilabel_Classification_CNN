{
  "nbformat": 4,
  "nbformat_minor": 0,
  "metadata": {
    "colab": {
      "name": "Klasifikasi Multi-label pada Hadis Sahih Bukhari Terjemahan Bahasa Indonesia Menggunakan Convolutional Neural Networks.ipynb",
      "provenance": [],
      "collapsed_sections": [],
      "include_colab_link": true
    },
    "kernelspec": {
      "display_name": "Python 3",
      "name": "python3"
    }
  },
  "cells": [
    {
      "cell_type": "markdown",
      "metadata": {
        "id": "view-in-github",
        "colab_type": "text"
      },
      "source": [
        "<a href=\"https://colab.research.google.com/github/muzakkialfarisi/TUGAS_AKHIR/blob/main/Klasifikasi_Multi_label_pada_Hadis_Sahih_Bukhari_Terjemahan_Bahasa_Indonesia_Menggunakan_Convolutional_Neural_Networks.ipynb\" target=\"_parent\"><img src=\"https://colab.research.google.com/assets/colab-badge.svg\" alt=\"Open In Colab\"/></a>"
      ]
    },
    {
      "cell_type": "markdown",
      "metadata": {
        "id": "Yeo4_08v7yer"
      },
      "source": [
        "**Klasifikasi Multi-label pada Hadis Sahih Bukhari Terjemahan Bahasa Indonesia Menggunakan Convolutional Neural Networks**\n",
        "\n",
        "muzakkialfarisi@student.telkomuniversity.ac.id\n",
        "\n",
        "widiwdu@telkomuniversity.ac.id\n",
        "\n",
        "adiwijaya@telkomuniversity.ac.id"
      ]
    },
    {
      "cell_type": "code",
      "metadata": {
        "colab": {
          "base_uri": "https://localhost:8080/"
        },
        "id": "FxHoFs8ib87Z",
        "outputId": "ab729456-1e9a-4758-f26d-752506b1aa65"
      },
      "source": [
        "from google.colab import drive\n",
        "drive.mount('drive/')\n",
        "import pandas as pd\n",
        "import csv\n",
        "import re\n",
        "import string\n",
        "import time\n",
        "from tensorflow import keras\n",
        "from tensorflow.keras import layers\n",
        "from keras.preprocessing import text, sequence\n",
        "from keras.preprocessing.text import Tokenizer\n",
        "from keras.preprocessing.sequence import pad_sequences\n",
        "from sklearn.model_selection import train_test_split\n",
        "from keras.models import Sequential\n",
        "from keras.metrics import *\n",
        "from sklearn.metrics import hamming_loss"
      ],
      "execution_count": null,
      "outputs": [
        {
          "output_type": "stream",
          "name": "stdout",
          "text": [
            "Drive already mounted at drive/; to attempt to forcibly remount, call drive.mount(\"drive/\", force_remount=True).\n"
          ]
        }
      ]
    },
    {
      "cell_type": "markdown",
      "metadata": {
        "id": "zMvdfR9S7DD6"
      },
      "source": [
        "**Read Data Train**"
      ]
    },
    {
      "cell_type": "code",
      "metadata": {
        "colab": {
          "base_uri": "https://localhost:8080/",
          "height": 202
        },
        "id": "MwRgZYmKcTCj",
        "outputId": "f5c135e3-3775-4882-81eb-19358641acc5"
      },
      "source": [
        "train = pd.read_csv(\"drive/My Drive/Colab Notebooks/Tugas Akhir/ADD/Dataset/hadits2k.csv\", names=[\"hadis\"])\n",
        "train.head()"
      ],
      "execution_count": null,
      "outputs": [
        {
          "output_type": "execute_result",
          "data": {
            "text/html": [
              "<div>\n",
              "<style scoped>\n",
              "    .dataframe tbody tr th:only-of-type {\n",
              "        vertical-align: middle;\n",
              "    }\n",
              "\n",
              "    .dataframe tbody tr th {\n",
              "        vertical-align: top;\n",
              "    }\n",
              "\n",
              "    .dataframe thead th {\n",
              "        text-align: right;\n",
              "    }\n",
              "</style>\n",
              "<table border=\"1\" class=\"dataframe\">\n",
              "  <thead>\n",
              "    <tr style=\"text-align: right;\">\n",
              "      <th></th>\n",
              "      <th>hadis</th>\n",
              "    </tr>\n",
              "  </thead>\n",
              "  <tbody>\n",
              "    <tr>\n",
              "      <th>0</th>\n",
              "      <td>Semua perbuatan tergantung niatnya, dan (balas...</td>\n",
              "    </tr>\n",
              "    <tr>\n",
              "      <th>1</th>\n",
              "      <td>Terkadang datang kepadaku seperti suara gemeri...</td>\n",
              "    </tr>\n",
              "    <tr>\n",
              "      <th>2</th>\n",
              "      <td>Bacalah? Beliau menjawab: Aku tidak bisa baca....</td>\n",
              "    </tr>\n",
              "    <tr>\n",
              "      <th>3</th>\n",
              "      <td>sangat kuat keinginannya untuk menghafalkan ap...</td>\n",
              "    </tr>\n",
              "    <tr>\n",
              "      <th>4</th>\n",
              "      <td>manusia yang paling lembut terutama pada bulan...</td>\n",
              "    </tr>\n",
              "  </tbody>\n",
              "</table>\n",
              "</div>"
            ],
            "text/plain": [
              "                                               hadis\n",
              "0  Semua perbuatan tergantung niatnya, dan (balas...\n",
              "1  Terkadang datang kepadaku seperti suara gemeri...\n",
              "2  Bacalah? Beliau menjawab: Aku tidak bisa baca....\n",
              "3  sangat kuat keinginannya untuk menghafalkan ap...\n",
              "4  manusia yang paling lembut terutama pada bulan..."
            ]
          },
          "metadata": {},
          "execution_count": 2
        }
      ]
    },
    {
      "cell_type": "code",
      "metadata": {
        "colab": {
          "base_uri": "https://localhost:8080/",
          "height": 202
        },
        "id": "6Nt57dvZCaUv",
        "outputId": "2f37f288-d84e-4959-eada-265afbe78a50"
      },
      "source": [
        "label = pd.read_csv(\"drive/My Drive/Colab Notebooks/Tugas Akhir/ADD/Dataset/label2k.csv\")\n",
        "label.head()"
      ],
      "execution_count": null,
      "outputs": [
        {
          "output_type": "execute_result",
          "data": {
            "text/html": [
              "<div>\n",
              "<style scoped>\n",
              "    .dataframe tbody tr th:only-of-type {\n",
              "        vertical-align: middle;\n",
              "    }\n",
              "\n",
              "    .dataframe tbody tr th {\n",
              "        vertical-align: top;\n",
              "    }\n",
              "\n",
              "    .dataframe thead th {\n",
              "        text-align: right;\n",
              "    }\n",
              "</style>\n",
              "<table border=\"1\" class=\"dataframe\">\n",
              "  <thead>\n",
              "    <tr style=\"text-align: right;\">\n",
              "      <th></th>\n",
              "      <th>anjuran</th>\n",
              "      <th>larangan</th>\n",
              "      <th>informasi</th>\n",
              "    </tr>\n",
              "  </thead>\n",
              "  <tbody>\n",
              "    <tr>\n",
              "      <th>0</th>\n",
              "      <td>0</td>\n",
              "      <td>0</td>\n",
              "      <td>1</td>\n",
              "    </tr>\n",
              "    <tr>\n",
              "      <th>1</th>\n",
              "      <td>0</td>\n",
              "      <td>0</td>\n",
              "      <td>1</td>\n",
              "    </tr>\n",
              "    <tr>\n",
              "      <th>2</th>\n",
              "      <td>0</td>\n",
              "      <td>0</td>\n",
              "      <td>1</td>\n",
              "    </tr>\n",
              "    <tr>\n",
              "      <th>3</th>\n",
              "      <td>0</td>\n",
              "      <td>1</td>\n",
              "      <td>1</td>\n",
              "    </tr>\n",
              "    <tr>\n",
              "      <th>4</th>\n",
              "      <td>0</td>\n",
              "      <td>0</td>\n",
              "      <td>1</td>\n",
              "    </tr>\n",
              "  </tbody>\n",
              "</table>\n",
              "</div>"
            ],
            "text/plain": [
              "   anjuran  larangan  informasi\n",
              "0        0         0          1\n",
              "1        0         0          1\n",
              "2        0         0          1\n",
              "3        0         1          1\n",
              "4        0         0          1"
            ]
          },
          "metadata": {},
          "execution_count": 3
        }
      ]
    },
    {
      "cell_type": "markdown",
      "metadata": {
        "id": "LE6gpLCV7Sj6"
      },
      "source": [
        "**Remove Punctuation**"
      ]
    },
    {
      "cell_type": "code",
      "metadata": {
        "id": "Ah9Z3U6UCb22"
      },
      "source": [
        "punc = string.punctuation.replace('<', '').replace('>', '')\n",
        "pat = re.compile(f'[{punc}]')\n",
        "train[\"h_punc\"] = train['hadis'].replace(pat, '')"
      ],
      "execution_count": null,
      "outputs": []
    },
    {
      "cell_type": "markdown",
      "metadata": {
        "id": "QguAvOxe7oTD"
      },
      "source": [
        "**Case Folding**"
      ]
    },
    {
      "cell_type": "code",
      "metadata": {
        "id": "KCnfE-X_Cez1"
      },
      "source": [
        "train['h_punc_low'] = train['h_punc'].str.lower()"
      ],
      "execution_count": null,
      "outputs": []
    },
    {
      "cell_type": "markdown",
      "metadata": {
        "id": "G7Q010Z77xSu"
      },
      "source": [
        "**Stemming**"
      ]
    },
    {
      "cell_type": "code",
      "metadata": {
        "colab": {
          "base_uri": "https://localhost:8080/"
        },
        "id": "OWOxS4K3ChO5",
        "outputId": "638fdb29-9625-4d8c-f1f1-52851889db48"
      },
      "source": [
        "pip install Sastrawi"
      ],
      "execution_count": null,
      "outputs": [
        {
          "output_type": "stream",
          "name": "stdout",
          "text": [
            "Collecting Sastrawi\n",
            "  Downloading Sastrawi-1.0.1-py2.py3-none-any.whl (209 kB)\n",
            "\u001b[?25l\r\u001b[K     |█▋                              | 10 kB 20.6 MB/s eta 0:00:01\r\u001b[K     |███▏                            | 20 kB 27.0 MB/s eta 0:00:01\r\u001b[K     |████▊                           | 30 kB 31.3 MB/s eta 0:00:01\r\u001b[K     |██████▎                         | 40 kB 24.6 MB/s eta 0:00:01\r\u001b[K     |███████▉                        | 51 kB 9.3 MB/s eta 0:00:01\r\u001b[K     |█████████▍                      | 61 kB 7.5 MB/s eta 0:00:01\r\u001b[K     |███████████                     | 71 kB 7.8 MB/s eta 0:00:01\r\u001b[K     |████████████▌                   | 81 kB 8.6 MB/s eta 0:00:01\r\u001b[K     |██████████████                  | 92 kB 9.5 MB/s eta 0:00:01\r\u001b[K     |███████████████▋                | 102 kB 8.0 MB/s eta 0:00:01\r\u001b[K     |█████████████████▏              | 112 kB 8.0 MB/s eta 0:00:01\r\u001b[K     |██████████████████▊             | 122 kB 8.0 MB/s eta 0:00:01\r\u001b[K     |████████████████████▎           | 133 kB 8.0 MB/s eta 0:00:01\r\u001b[K     |█████████████████████▉          | 143 kB 8.0 MB/s eta 0:00:01\r\u001b[K     |███████████████████████▍        | 153 kB 8.0 MB/s eta 0:00:01\r\u001b[K     |█████████████████████████       | 163 kB 8.0 MB/s eta 0:00:01\r\u001b[K     |██████████████████████████▋     | 174 kB 8.0 MB/s eta 0:00:01\r\u001b[K     |████████████████████████████▏   | 184 kB 8.0 MB/s eta 0:00:01\r\u001b[K     |█████████████████████████████▊  | 194 kB 8.0 MB/s eta 0:00:01\r\u001b[K     |███████████████████████████████▎| 204 kB 8.0 MB/s eta 0:00:01\r\u001b[K     |████████████████████████████████| 209 kB 8.0 MB/s \n",
            "\u001b[?25hInstalling collected packages: Sastrawi\n",
            "Successfully installed Sastrawi-1.0.1\n"
          ]
        }
      ]
    },
    {
      "cell_type": "code",
      "metadata": {
        "id": "fBZ08sbHzWTp"
      },
      "source": [
        "from Sastrawi.Stemmer.StemmerFactory import StemmerFactory\n",
        "from Sastrawi.StopWordRemover.StopWordRemoverFactory import StopWordRemoverFactory"
      ],
      "execution_count": null,
      "outputs": []
    },
    {
      "cell_type": "code",
      "metadata": {
        "id": "uCHzA39cCi8l"
      },
      "source": [
        "stemmer = StemmerFactory().create_stemmer()\n",
        "\n",
        "list_low = train['h_punc_low'].tolist()\n",
        "\n",
        "text_stemmed = map(lambda x: stemmer.stem(x), list_low)\n",
        "\n",
        "list_stemmed = []\n",
        "for i in text_stemmed:\n",
        "  list_stemmed.append(i)\n",
        "\n",
        "train['h_punc_low_stem'] = pd.DataFrame(list_stemmed)"
      ],
      "execution_count": null,
      "outputs": []
    },
    {
      "cell_type": "code",
      "metadata": {
        "colab": {
          "base_uri": "https://localhost:8080/",
          "height": 202
        },
        "id": "cPLsLOeo8HUX",
        "outputId": "93a255db-9a84-4f1f-9265-14c90ee3aaa5"
      },
      "source": [
        "train.head()"
      ],
      "execution_count": null,
      "outputs": [
        {
          "output_type": "execute_result",
          "data": {
            "text/html": [
              "<div>\n",
              "<style scoped>\n",
              "    .dataframe tbody tr th:only-of-type {\n",
              "        vertical-align: middle;\n",
              "    }\n",
              "\n",
              "    .dataframe tbody tr th {\n",
              "        vertical-align: top;\n",
              "    }\n",
              "\n",
              "    .dataframe thead th {\n",
              "        text-align: right;\n",
              "    }\n",
              "</style>\n",
              "<table border=\"1\" class=\"dataframe\">\n",
              "  <thead>\n",
              "    <tr style=\"text-align: right;\">\n",
              "      <th></th>\n",
              "      <th>hadis</th>\n",
              "      <th>h_punc</th>\n",
              "      <th>h_punc_low</th>\n",
              "      <th>h_punc_low_stem</th>\n",
              "    </tr>\n",
              "  </thead>\n",
              "  <tbody>\n",
              "    <tr>\n",
              "      <th>0</th>\n",
              "      <td>Semua perbuatan tergantung niatnya, dan (balas...</td>\n",
              "      <td>Semua perbuatan tergantung niatnya dan balasan...</td>\n",
              "      <td>semua perbuatan tergantung niatnya dan balasan...</td>\n",
              "      <td>semua buat gantung niat dan balas bagi tiaptia...</td>\n",
              "    </tr>\n",
              "    <tr>\n",
              "      <th>1</th>\n",
              "      <td>Terkadang datang kepadaku seperti suara gemeri...</td>\n",
              "      <td>Terkadang datang kepadaku seperti suara gemeri...</td>\n",
              "      <td>terkadang datang kepadaku seperti suara gemeri...</td>\n",
              "      <td>terkadang datang kepada seperti suara gerincin...</td>\n",
              "    </tr>\n",
              "    <tr>\n",
              "      <th>2</th>\n",
              "      <td>Bacalah? Beliau menjawab: Aku tidak bisa baca....</td>\n",
              "      <td>Bacalah Beliau menjawab Aku tidak bisa baca Na...</td>\n",
              "      <td>bacalah beliau menjawab aku tidak bisa baca na...</td>\n",
              "      <td>baca beliau jawab aku tidak bisa baca nabi jel...</td>\n",
              "    </tr>\n",
              "    <tr>\n",
              "      <th>3</th>\n",
              "      <td>sangat kuat keinginannya untuk menghafalkan ap...</td>\n",
              "      <td>sangat kuat keinginannya untuk menghafalkan ap...</td>\n",
              "      <td>sangat kuat keinginannya untuk menghafalkan ap...</td>\n",
              "      <td>sangat kuat ingin untuk hafal apa yang turun a...</td>\n",
              "    </tr>\n",
              "    <tr>\n",
              "      <th>4</th>\n",
              "      <td>manusia yang paling lembut terutama pada bulan...</td>\n",
              "      <td>manusia yang paling lembut terutama pada bulan...</td>\n",
              "      <td>manusia yang paling lembut terutama pada bulan...</td>\n",
              "      <td>manusia yang paling lembut utama pada bulan ra...</td>\n",
              "    </tr>\n",
              "  </tbody>\n",
              "</table>\n",
              "</div>"
            ],
            "text/plain": [
              "                                               hadis  ...                                    h_punc_low_stem\n",
              "0  Semua perbuatan tergantung niatnya, dan (balas...  ...  semua buat gantung niat dan balas bagi tiaptia...\n",
              "1  Terkadang datang kepadaku seperti suara gemeri...  ...  terkadang datang kepada seperti suara gerincin...\n",
              "2  Bacalah? Beliau menjawab: Aku tidak bisa baca....  ...  baca beliau jawab aku tidak bisa baca nabi jel...\n",
              "3  sangat kuat keinginannya untuk menghafalkan ap...  ...  sangat kuat ingin untuk hafal apa yang turun a...\n",
              "4  manusia yang paling lembut terutama pada bulan...  ...  manusia yang paling lembut utama pada bulan ra...\n",
              "\n",
              "[5 rows x 4 columns]"
            ]
          },
          "metadata": {},
          "execution_count": 9
        }
      ]
    },
    {
      "cell_type": "code",
      "metadata": {
        "id": "qEacnyBB93lD"
      },
      "source": [
        "def tokenizing(dataTrain):\n",
        "  tokenizer = Tokenizer(num_words=732)\n",
        "  tokenizer.fit_on_texts(list(dataTrain))\n",
        "  dataTrain = tokenizer.texts_to_sequences(dataTrain)\n",
        "  dataTrain = sequence.pad_sequences(dataTrain, maxlen=100)\n",
        "  return dataTrain"
      ],
      "execution_count": null,
      "outputs": []
    },
    {
      "cell_type": "code",
      "metadata": {
        "id": "6kmED_M3-6F4"
      },
      "source": [
        "def get_cnn1_model():\n",
        "  opt = tf.keras.optimizers.Adam(learning_rate=0.01)\n",
        "  model = tf.keras.Sequential()\n",
        "  model.add(tf.keras.layers.Embedding(input_dim=2000, input_length=732, output_dim=100))\n",
        "  model.add(tf.keras.layers.Conv1D(filters=512, kernel_size=3, padding='valid', strides=1, activation='relu'))\n",
        "  model.add(tf.keras.layers.GlobalMaxPool1D())\n",
        "  model.add(tf.keras.layers.Dropout(0.5))\n",
        "  model.add(tf.keras.layers.Dense(3, activation='sigmoid'))\n",
        "  model.compile(loss='binary_crossentropy', optimizer=opt, metrics=['accuracy'])\n",
        "  return model"
      ],
      "execution_count": null,
      "outputs": []
    },
    {
      "cell_type": "code",
      "metadata": {
        "id": "ed4gjC-OaV2Y"
      },
      "source": [
        "def get_cnn2_model():\n",
        "  opt = tf.keras.optimizers.Adam(learning_rate=0.01)\n",
        "  model = tf.keras.Sequential()\n",
        "  model.add(tf.keras.layers.Embedding(input_dim=2000, input_length=732, output_dim=100))\n",
        "  model.add(tf.keras.layers.Conv1D(filters=512, kernel_size=3, padding='same', strides=1, activation='relu'))\n",
        "  model.add(tf.keras.layers.GlobalMaxPool1D())\n",
        "  model.add(tf.keras.layers.Dropout(0.5))\n",
        "  model.add(tf.keras.layers.Dense(3, activation='sigmoid'))\n",
        "  model.compile(loss='binary_crossentropy', optimizer=opt, metrics=['accuracy'])\n",
        "  return model"
      ],
      "execution_count": null,
      "outputs": []
    },
    {
      "cell_type": "code",
      "metadata": {
        "id": "N3vjJLmX6UMl"
      },
      "source": [
        "train2 = tokenizing(train['h_punc_low_stem'].values)\n",
        "X_train2, X_test2, y_train2, y_test2 = train_test_split(train2, label, test_size=0.2, random_state=3)\n",
        "\n",
        "train3 = tokenizing(train['h_punc_low'].values)\n",
        "X_train3, X_test3, y_train3, y_test3 = train_test_split(train3, label, test_size=0.2, random_state=3)"
      ],
      "execution_count": null,
      "outputs": []
    },
    {
      "cell_type": "markdown",
      "metadata": {
        "id": "6Ghqqjrq5J2m"
      },
      "source": [
        "**CNN tanpa padding**"
      ]
    },
    {
      "cell_type": "code",
      "metadata": {
        "colab": {
          "base_uri": "https://localhost:8080/"
        },
        "id": "Z1gd02n7WabC",
        "outputId": "788ff5dd-5a8a-466b-eed0-e68644e76d32"
      },
      "source": [
        "model_cnn_valid_2 = get_cnn1_model()\n",
        "time_cnn_valid_2 = time.time()\n",
        "model_cnn_valid_fit_2 = model_cnn_valid_2.fit(X_train2, y_train2, epochs=15, validation_data=(X_test2, y_test2), verbose=False, batch_size=32)\n",
        "time_cnn_valid_2 = time.time() - time_cnn_valid_2\n",
        "# model_cnn_valid_2.save('drive/My Drive/Colab Notebooks/Tugas Akhir/ADD/Hasil Uji/model_cnn_valid_1')"
      ],
      "execution_count": null,
      "outputs": [
        {
          "output_type": "stream",
          "name": "stdout",
          "text": [
            "WARNING:tensorflow:Model was constructed with shape (None, 732) for input KerasTensor(type_spec=TensorSpec(shape=(None, 732), dtype=tf.float32, name='embedding_9_input'), name='embedding_9_input', description=\"created by layer 'embedding_9_input'\"), but it was called on an input with incompatible shape (32, 100).\n",
            "WARNING:tensorflow:Model was constructed with shape (None, 732) for input KerasTensor(type_spec=TensorSpec(shape=(None, 732), dtype=tf.float32, name='embedding_9_input'), name='embedding_9_input', description=\"created by layer 'embedding_9_input'\"), but it was called on an input with incompatible shape (32, 100).\n",
            "WARNING:tensorflow:Model was constructed with shape (None, 732) for input KerasTensor(type_spec=TensorSpec(shape=(None, 732), dtype=tf.float32, name='embedding_9_input'), name='embedding_9_input', description=\"created by layer 'embedding_9_input'\"), but it was called on an input with incompatible shape (None, 100).\n"
          ]
        }
      ]
    },
    {
      "cell_type": "code",
      "metadata": {
        "colab": {
          "base_uri": "https://localhost:8080/"
        },
        "id": "GhyWGR0OWzn2",
        "outputId": "83417944-f196-4fed-d655-6bd26d4a53ac"
      },
      "source": [
        "model_cnn_valid_3 = get_cnn1_model()\n",
        "time_cnn_valid_3 = time.time()\n",
        "model_cnn_valid_fit_3 = model_cnn_valid_3.fit(X_train3, y_train3, epochs=15, validation_data=(X_test3, y_test3), verbose=False, batch_size=32)\n",
        "time_cnn_valid_3 = time.time() - time_cnn_valid_3\n",
        "# model_cnn_valid_3.save('drive/My Drive/Colab Notebooks/Tugas Akhir/ADD/Hasil Uji/model_cnn_valid_2')"
      ],
      "execution_count": null,
      "outputs": [
        {
          "output_type": "stream",
          "name": "stdout",
          "text": [
            "WARNING:tensorflow:Model was constructed with shape (None, 732) for input KerasTensor(type_spec=TensorSpec(shape=(None, 732), dtype=tf.float32, name='embedding_10_input'), name='embedding_10_input', description=\"created by layer 'embedding_10_input'\"), but it was called on an input with incompatible shape (32, 100).\n",
            "WARNING:tensorflow:Model was constructed with shape (None, 732) for input KerasTensor(type_spec=TensorSpec(shape=(None, 732), dtype=tf.float32, name='embedding_10_input'), name='embedding_10_input', description=\"created by layer 'embedding_10_input'\"), but it was called on an input with incompatible shape (32, 100).\n",
            "WARNING:tensorflow:Model was constructed with shape (None, 732) for input KerasTensor(type_spec=TensorSpec(shape=(None, 732), dtype=tf.float32, name='embedding_10_input'), name='embedding_10_input', description=\"created by layer 'embedding_10_input'\"), but it was called on an input with incompatible shape (None, 100).\n"
          ]
        }
      ]
    },
    {
      "cell_type": "markdown",
      "metadata": {
        "id": "Evmx2MvI4Mth"
      },
      "source": [
        "**LOAD MODEL TERSIMPAN VALID**"
      ]
    },
    {
      "cell_type": "code",
      "metadata": {
        "colab": {
          "base_uri": "https://localhost:8080/"
        },
        "id": "NR9_HhdZ4Bbd",
        "outputId": "0666898b-7885-4f6f-fbac-1985ab79e2fd"
      },
      "source": [
        "model_cnn_11 = keras.models.load_model('drive/My Drive/Colab Notebooks/Tugas Akhir/ADD/Hasil Uji/model_cnn_valid_1')\n",
        "\n",
        "y_pred_cnn_11 = model_cnn_11.predict(X_test2, verbose=False)\n",
        "prediction_cnn_11 = (y_pred_cnn_11 > 0.5)\n",
        "\n",
        "val1 = []\n",
        "val1.append(round(hamming_loss(y_test2, prediction_cnn_11), 4))\n",
        "val1.append(round(time_cnn_valid_2, 4))"
      ],
      "execution_count": null,
      "outputs": [
        {
          "output_type": "stream",
          "name": "stdout",
          "text": [
            "WARNING:tensorflow:Model was constructed with shape (None, 732) for input KerasTensor(type_spec=TensorSpec(shape=(None, 732), dtype=tf.float32, name='embedding_8_input'), name='embedding_8_input', description=\"created by layer 'embedding_8_input'\"), but it was called on an input with incompatible shape (None, 100).\n"
          ]
        }
      ]
    },
    {
      "cell_type": "code",
      "metadata": {
        "colab": {
          "base_uri": "https://localhost:8080/"
        },
        "id": "eCAuye8Q9r_j",
        "outputId": "9bac2691-b26d-4f0c-dfd6-54c88c882390"
      },
      "source": [
        "model_cnn_12 = keras.models.load_model('drive/My Drive/Colab Notebooks/Tugas Akhir/ADD/Hasil Uji/model_cnn_valid_2')\n",
        "\n",
        "y_pred_cnn_12 = model_cnn_12.predict(X_test3, verbose=False)\n",
        "prediction_cnn_12 = (y_pred_cnn_12 > 0.5)\n",
        "\n",
        "val1.append(round(hamming_loss(y_test3, prediction_cnn_12), 4))\n",
        "val1.append(round(time_cnn_valid_3, 4))"
      ],
      "execution_count": null,
      "outputs": [
        {
          "output_type": "stream",
          "name": "stdout",
          "text": [
            "WARNING:tensorflow:Model was constructed with shape (None, 732) for input KerasTensor(type_spec=TensorSpec(shape=(None, 732), dtype=tf.float32, name='embedding_9_input'), name='embedding_9_input', description=\"created by layer 'embedding_9_input'\"), but it was called on an input with incompatible shape (None, 100).\n"
          ]
        }
      ]
    },
    {
      "cell_type": "markdown",
      "metadata": {
        "id": "vS0HUsNY5Q8a"
      },
      "source": [
        "**CNN dengan padding**"
      ]
    },
    {
      "cell_type": "code",
      "metadata": {
        "colab": {
          "base_uri": "https://localhost:8080/"
        },
        "id": "JklZ_W3JZh3u",
        "outputId": "86be3cf4-7bef-45ea-fb7f-dba5c49c77ed"
      },
      "source": [
        "model_cnn_same_2 = get_cnn2_model()\n",
        "time_cnn_same_2 = time.time()\n",
        "model_cnn_same_fit_2 = model_cnn_same_2.fit(X_train2, y_train2, epochs=15, validation_data=(X_test2, y_test2), verbose=False, batch_size=32)\n",
        "time_cnn_same_2 = time.time() - time_cnn_same_2\n",
        "# model_cnn_same_2.save('drive/My Drive/Colab Notebooks/Tugas Akhir/ADD/Hasil Uji/model_cnn_same_1')"
      ],
      "execution_count": null,
      "outputs": [
        {
          "output_type": "stream",
          "name": "stdout",
          "text": [
            "WARNING:tensorflow:Model was constructed with shape (None, 732) for input KerasTensor(type_spec=TensorSpec(shape=(None, 732), dtype=tf.float32, name='embedding_11_input'), name='embedding_11_input', description=\"created by layer 'embedding_11_input'\"), but it was called on an input with incompatible shape (32, 100).\n",
            "WARNING:tensorflow:Model was constructed with shape (None, 732) for input KerasTensor(type_spec=TensorSpec(shape=(None, 732), dtype=tf.float32, name='embedding_11_input'), name='embedding_11_input', description=\"created by layer 'embedding_11_input'\"), but it was called on an input with incompatible shape (32, 100).\n",
            "WARNING:tensorflow:Model was constructed with shape (None, 732) for input KerasTensor(type_spec=TensorSpec(shape=(None, 732), dtype=tf.float32, name='embedding_11_input'), name='embedding_11_input', description=\"created by layer 'embedding_11_input'\"), but it was called on an input with incompatible shape (None, 100).\n"
          ]
        }
      ]
    },
    {
      "cell_type": "code",
      "metadata": {
        "colab": {
          "base_uri": "https://localhost:8080/"
        },
        "id": "cCIivHCUaB0B",
        "outputId": "00ce69b4-9046-4431-a372-3f29d3e441ff"
      },
      "source": [
        "model_cnn_same_3 = get_cnn2_model()\n",
        "time_cnn_same_3 = time.time()\n",
        "model_cnn_same_fit_3 = model_cnn_same_3.fit(X_train3, y_train3, epochs=15, validation_data=(X_test3, y_test3), verbose=False, batch_size=32)\n",
        "time_cnn_same_3 = time.time() - time_cnn_same_3\n",
        "# model_cnn_same_3.save('drive/My Drive/Colab Notebooks/Tugas Akhir/ADD/Hasil Uji/model_cnn_same_2')"
      ],
      "execution_count": null,
      "outputs": [
        {
          "output_type": "stream",
          "name": "stdout",
          "text": [
            "WARNING:tensorflow:Model was constructed with shape (None, 732) for input KerasTensor(type_spec=TensorSpec(shape=(None, 732), dtype=tf.float32, name='embedding_12_input'), name='embedding_12_input', description=\"created by layer 'embedding_12_input'\"), but it was called on an input with incompatible shape (32, 100).\n",
            "WARNING:tensorflow:Model was constructed with shape (None, 732) for input KerasTensor(type_spec=TensorSpec(shape=(None, 732), dtype=tf.float32, name='embedding_12_input'), name='embedding_12_input', description=\"created by layer 'embedding_12_input'\"), but it was called on an input with incompatible shape (32, 100).\n",
            "WARNING:tensorflow:Model was constructed with shape (None, 732) for input KerasTensor(type_spec=TensorSpec(shape=(None, 732), dtype=tf.float32, name='embedding_12_input'), name='embedding_12_input', description=\"created by layer 'embedding_12_input'\"), but it was called on an input with incompatible shape (None, 100).\n"
          ]
        }
      ]
    },
    {
      "cell_type": "markdown",
      "metadata": {
        "id": "TY7IRAHa-KIw"
      },
      "source": [
        "**`LOAD MODEL TERSIMPAN SAME`**\n"
      ]
    },
    {
      "cell_type": "code",
      "metadata": {
        "colab": {
          "base_uri": "https://localhost:8080/"
        },
        "id": "oxtPBnc89_ms",
        "outputId": "ef538e7f-fda7-42b8-eec3-c81251272bc9"
      },
      "source": [
        "model_cnn_21 = keras.models.load_model('drive/My Drive/Colab Notebooks/Tugas Akhir/ADD/Hasil Uji/model_cnn_same_1')\n",
        "\n",
        "y_pred_cnn_21 = model_cnn_21.predict(X_test2, verbose=False)\n",
        "prediction_cnn_21 = (y_pred_cnn_21 > 0.5)\n",
        "\n",
        "val2 = []\n",
        "val2.append(round(hamming_loss(y_test2, prediction_cnn_21), 4))\n",
        "val2.append(round(time_cnn_same_2, 4))"
      ],
      "execution_count": null,
      "outputs": [
        {
          "output_type": "stream",
          "name": "stdout",
          "text": [
            "WARNING:tensorflow:Model was constructed with shape (None, 732) for input KerasTensor(type_spec=TensorSpec(shape=(None, 732), dtype=tf.float32, name='embedding_10_input'), name='embedding_10_input', description=\"created by layer 'embedding_10_input'\"), but it was called on an input with incompatible shape (None, 100).\n"
          ]
        }
      ]
    },
    {
      "cell_type": "code",
      "metadata": {
        "colab": {
          "base_uri": "https://localhost:8080/"
        },
        "id": "8qiqvk0f-IR6",
        "outputId": "641b3a60-1b7b-428a-9d1f-533af2cd22c7"
      },
      "source": [
        "model_cnn_22 = keras.models.load_model('drive/My Drive/Colab Notebooks/Tugas Akhir/ADD/Hasil Uji/model_cnn_same_2')\n",
        "\n",
        "y_pred_cnn_22 = model_cnn_22.predict(X_test3, verbose=False)\n",
        "prediction_cnn_22 = (y_pred_cnn_22 > 0.5)\n",
        "\n",
        "val2.append(round(hamming_loss(y_test3, prediction_cnn_22), 4))\n",
        "val2.append(round(time_cnn_same_3, 4))"
      ],
      "execution_count": null,
      "outputs": [
        {
          "output_type": "stream",
          "name": "stdout",
          "text": [
            "WARNING:tensorflow:Model was constructed with shape (None, 732) for input KerasTensor(type_spec=TensorSpec(shape=(None, 732), dtype=tf.float32, name='embedding_11_input'), name='embedding_11_input', description=\"created by layer 'embedding_11_input'\"), but it was called on an input with incompatible shape (None, 100).\n"
          ]
        }
      ]
    },
    {
      "cell_type": "code",
      "metadata": {
        "colab": {
          "base_uri": "https://localhost:8080/"
        },
        "id": "__Nxs1Tek-ri",
        "outputId": "94a2c6dd-e998-45df-a921-f6f1c2e42155"
      },
      "source": [
        "print(\"                   dengan stemming - tanpa stemming\")\n",
        "print(\"tanpa  padding : \",val1)\n",
        "print(\"dengan padding : \",val2)"
      ],
      "execution_count": null,
      "outputs": [
        {
          "output_type": "stream",
          "name": "stdout",
          "text": [
            "                   dengan stemming - tanpa stemming\n",
            "tanpa  padding :  [0.0567, 55.1915, 0.055, 55.5303]\n",
            "dengan padding :  [0.0575, 56.5767, 0.0567, 56.8204]\n"
          ]
        }
      ]
    },
    {
      "cell_type": "markdown",
      "metadata": {
        "id": "elwAm3ep5VPL"
      },
      "source": [
        "**RNNS**"
      ]
    },
    {
      "cell_type": "code",
      "metadata": {
        "id": "7eFZ9u03t378"
      },
      "source": [
        "def get_rnns_model():\n",
        "  opt = tf.keras.optimizers.Adam(learning_rate=0.01)\n",
        "  model = tf.keras.Sequential()\n",
        "  model.add(tf.keras.layers.Embedding(input_dim=2000, input_length=732, output_dim=100))\n",
        "  model.add(tf.keras.layers.SimpleRNN(512, return_sequences=True))\n",
        "  model.add(tf.keras.layers.GlobalMaxPool1D())\n",
        "  model.add(tf.keras.layers.Dropout(0.5))\n",
        "  model.add(tf.keras.layers.Dense(3, activation='sigmoid'))\n",
        "  model.compile(loss='binary_crossentropy', optimizer=opt, metrics=['accuracy'])\n",
        "  return model"
      ],
      "execution_count": null,
      "outputs": []
    },
    {
      "cell_type": "code",
      "metadata": {
        "id": "3f6Ia7iA2quF",
        "colab": {
          "base_uri": "https://localhost:8080/"
        },
        "outputId": "efc3ef0f-7066-4e12-c44a-b14e2eff5bd6"
      },
      "source": [
        "model_rnns = get_rnns_model()\n",
        "time_rnns = time.time()\n",
        "model_fit_rnns = model_rnns.fit(X_train3, y_train3, epochs=15, validation_data=(X_test3, y_test3), verbose=False, batch_size=32)\n",
        "time_rnns = time.time() - time_rnns\n",
        "# model_rnns.save('drive/My Drive/Colab Notebooks/Tugas Akhir/ADD/Hasil Uji/model_rnns')"
      ],
      "execution_count": null,
      "outputs": [
        {
          "output_type": "stream",
          "name": "stdout",
          "text": [
            "WARNING:tensorflow:Model was constructed with shape (None, 732) for input KerasTensor(type_spec=TensorSpec(shape=(None, 732), dtype=tf.float32, name='embedding_6_input'), name='embedding_6_input', description=\"created by layer 'embedding_6_input'\"), but it was called on an input with incompatible shape (32, 100).\n",
            "WARNING:tensorflow:Model was constructed with shape (None, 732) for input KerasTensor(type_spec=TensorSpec(shape=(None, 732), dtype=tf.float32, name='embedding_6_input'), name='embedding_6_input', description=\"created by layer 'embedding_6_input'\"), but it was called on an input with incompatible shape (32, 100).\n",
            "WARNING:tensorflow:Model was constructed with shape (None, 732) for input KerasTensor(type_spec=TensorSpec(shape=(None, 732), dtype=tf.float32, name='embedding_6_input'), name='embedding_6_input', description=\"created by layer 'embedding_6_input'\"), but it was called on an input with incompatible shape (None, 100).\n"
          ]
        }
      ]
    },
    {
      "cell_type": "markdown",
      "metadata": {
        "id": "IipWxae4uwfb"
      },
      "source": [
        "**LOAD MODEL RNN**"
      ]
    },
    {
      "cell_type": "code",
      "metadata": {
        "colab": {
          "base_uri": "https://localhost:8080/"
        },
        "id": "Tvk_YTxlt_Pd",
        "outputId": "816d0498-ff37-4cd7-ffde-dd1916cbdfc1"
      },
      "source": [
        "load_rnns = keras.models.load_model('drive/My Drive/Colab Notebooks/Tugas Akhir/ADD/Hasil Uji/model_rnns')\n",
        "\n",
        "y_pred_load_rnns = load_rnns.predict(X_test3, verbose=False)\n",
        "prediction_load_rnns = (y_pred_load_rnns > 0.5)\n",
        "\n",
        "load_rnns = []\n",
        "load_rnns.append(round(hamming_loss(y_test3, prediction_load_rnns), 4))\n",
        "load_rnns.append(round(time_rnns, 4))"
      ],
      "execution_count": null,
      "outputs": [
        {
          "output_type": "stream",
          "name": "stdout",
          "text": [
            "WARNING:tensorflow:Model was constructed with shape (None, 732) for input KerasTensor(type_spec=TensorSpec(shape=(None, 732), dtype=tf.float32, name='embedding_4_input'), name='embedding_4_input', description=\"created by layer 'embedding_4_input'\"), but it was called on an input with incompatible shape (None, 100).\n"
          ]
        }
      ]
    },
    {
      "cell_type": "code",
      "metadata": {
        "colab": {
          "base_uri": "https://localhost:8080/"
        },
        "id": "GSLgwGx_vFA2",
        "outputId": "58122dda-5799-4edc-e0f4-ee76586687f0"
      },
      "source": [
        "print(load_rnns)"
      ],
      "execution_count": null,
      "outputs": [
        {
          "output_type": "stream",
          "name": "stdout",
          "text": [
            "[0.1, 197.9882]\n"
          ]
        }
      ]
    },
    {
      "cell_type": "markdown",
      "metadata": {
        "id": "hKriaKCK5Xzm"
      },
      "source": [
        "**LSTM**"
      ]
    },
    {
      "cell_type": "code",
      "metadata": {
        "id": "xh-cKdscwdAX"
      },
      "source": [
        "def get_lstm_model():\n",
        "  opt = tf.keras.optimizers.Adam(learning_rate=0.01)\n",
        "  model = tf.keras.Sequential()\n",
        "  model.add(tf.keras.layers.Embedding(input_dim=2000, input_length=732, output_dim=100))\n",
        "  model.add(tf.keras.layers.LSTM(512, return_sequences=True))\n",
        "  model.add(tf.keras.layers.GlobalMaxPool1D())\n",
        "  model.add(tf.keras.layers.Dropout(0.5))\n",
        "  model.add(tf.keras.layers.Dense(3, activation='sigmoid'))\n",
        "  model.compile(loss='binary_crossentropy', optimizer=opt, metrics=['categorical_accuracy'])\n",
        "  return model"
      ],
      "execution_count": null,
      "outputs": []
    },
    {
      "cell_type": "code",
      "metadata": {
        "id": "llZN3a5Y4M55",
        "colab": {
          "base_uri": "https://localhost:8080/"
        },
        "outputId": "76312a92-2206-4602-daf1-1068df45ff18"
      },
      "source": [
        "model_lstm = get_lstm_model()\n",
        "time_lstm = time.time()\n",
        "model_fit_lstm = model_lstm.fit(X_train3, y_train3, epochs=15, validation_data=(X_test3, y_test3), verbose=False, batch_size=32)\n",
        "time_lstm = time.time() - time_lstm\n",
        "# model_lstm.save('drive/My Drive/Colab Notebooks/Tugas Akhir/ADD/Hasil Uji/model_lstm')"
      ],
      "execution_count": null,
      "outputs": [
        {
          "output_type": "stream",
          "name": "stdout",
          "text": [
            "WARNING:tensorflow:Model was constructed with shape (None, 732) for input KerasTensor(type_spec=TensorSpec(shape=(None, 732), dtype=tf.float32, name='embedding_7_input'), name='embedding_7_input', description=\"created by layer 'embedding_7_input'\"), but it was called on an input with incompatible shape (32, 100).\n",
            "WARNING:tensorflow:Model was constructed with shape (None, 732) for input KerasTensor(type_spec=TensorSpec(shape=(None, 732), dtype=tf.float32, name='embedding_7_input'), name='embedding_7_input', description=\"created by layer 'embedding_7_input'\"), but it was called on an input with incompatible shape (32, 100).\n",
            "WARNING:tensorflow:Model was constructed with shape (None, 732) for input KerasTensor(type_spec=TensorSpec(shape=(None, 732), dtype=tf.float32, name='embedding_7_input'), name='embedding_7_input', description=\"created by layer 'embedding_7_input'\"), but it was called on an input with incompatible shape (None, 100).\n"
          ]
        }
      ]
    },
    {
      "cell_type": "markdown",
      "metadata": {
        "id": "omsXu6rjvJcJ"
      },
      "source": [
        "**LOAD MODEL LSTM**"
      ]
    },
    {
      "cell_type": "code",
      "metadata": {
        "colab": {
          "base_uri": "https://localhost:8080/"
        },
        "id": "gp05EI9QvMQk",
        "outputId": "1922ecbc-e0ae-4542-f694-89d4350e7bcc"
      },
      "source": [
        "load_lstm = keras.models.load_model('drive/My Drive/Colab Notebooks/Tugas Akhir/ADD/Hasil Uji/model_lstm')\n",
        "\n",
        "y_pred_load_lstm = load_lstm.predict(X_test3, verbose=False)\n",
        "prediction_load_lstm = (y_pred_load_lstm > 0.5)\n",
        "\n",
        "load_lstm = []\n",
        "load_lstm.append(round(hamming_loss(y_test3, prediction_load_lstm), 4))\n",
        "load_lstm.append(round(time_lstm, 4))"
      ],
      "execution_count": null,
      "outputs": [
        {
          "output_type": "stream",
          "name": "stdout",
          "text": [
            "WARNING:tensorflow:Model was constructed with shape (None, 732) for input KerasTensor(type_spec=TensorSpec(shape=(None, 732), dtype=tf.float32, name='embedding_5_input'), name='embedding_5_input', description=\"created by layer 'embedding_5_input'\"), but it was called on an input with incompatible shape (None, 100).\n"
          ]
        }
      ]
    },
    {
      "cell_type": "code",
      "metadata": {
        "colab": {
          "base_uri": "https://localhost:8080/"
        },
        "id": "T-ngPbGtveVs",
        "outputId": "588cbb14-af07-45a7-938a-ca765fd5de49"
      },
      "source": [
        "print(load_lstm)"
      ],
      "execution_count": null,
      "outputs": [
        {
          "output_type": "stream",
          "name": "stdout",
          "text": [
            "[0.075, 890.8086]\n"
          ]
        }
      ]
    }
  ]
}