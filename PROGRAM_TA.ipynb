{
  "nbformat": 4,
  "nbformat_minor": 0,
  "metadata": {
    "colab": {
      "name": "PROGRAM TA.ipynb",
      "provenance": [],
      "collapsed_sections": [],
      "include_colab_link": true
    },
    "kernelspec": {
      "display_name": "Python 3",
      "name": "python3"
    }
  },
  "cells": [
    {
      "cell_type": "markdown",
      "metadata": {
        "id": "view-in-github",
        "colab_type": "text"
      },
      "source": [
        "<a href=\"https://colab.research.google.com/github/muzakkialfarisi/TUGAS_AKHIR/blob/main/PROGRAM_TA.ipynb\" target=\"_parent\"><img src=\"https://colab.research.google.com/assets/colab-badge.svg\" alt=\"Open In Colab\"/></a>"
      ]
    },
    {
      "cell_type": "markdown",
      "metadata": {
        "id": "Yeo4_08v7yer"
      },
      "source": [
        "**Klasifikasi Multi-label pada Hadis Sahih Bukhari Terjemahan Bahasa Indonesia Menggunakan Convolutional Neural Networks**\n",
        "\n",
        "muzakkialfarisi@student.telkomuniversity.ac.id\n",
        "\n",
        "widiwdu@telkomuniversity.ac.id\n",
        "\n",
        "adiwijaya@telkomuniversity.ac.id"
      ]
    },
    {
      "cell_type": "code",
      "metadata": {
        "colab": {
          "base_uri": "https://localhost:8080/"
        },
        "id": "FxHoFs8ib87Z",
        "outputId": "891487d5-4c42-421e-ad11-e860a1e0543a"
      },
      "source": [
        "from google.colab import drive\n",
        "drive.mount('drive/')\n",
        "import pandas as pd\n",
        "import csv\n",
        "import re\n",
        "import string\n",
        "import time\n",
        "from tensorflow import keras\n",
        "from tensorflow.keras import layers\n",
        "from keras.preprocessing import text, sequence\n",
        "from keras.preprocessing.text import Tokenizer\n",
        "from keras.preprocessing.sequence import pad_sequences\n",
        "from sklearn.model_selection import train_test_split\n",
        "from keras.models import Sequential\n",
        "from keras.metrics import *\n",
        "from sklearn.metrics import hamming_loss"
      ],
      "execution_count": null,
      "outputs": [
        {
          "output_type": "stream",
          "name": "stdout",
          "text": [
            "Mounted at drive/\n"
          ]
        }
      ]
    },
    {
      "cell_type": "markdown",
      "metadata": {
        "id": "zMvdfR9S7DD6"
      },
      "source": [
        "**Read Data Train**"
      ]
    },
    {
      "cell_type": "code",
      "metadata": {
        "colab": {
          "base_uri": "https://localhost:8080/",
          "height": 202
        },
        "id": "MwRgZYmKcTCj",
        "outputId": "4207c2fc-e06c-4ca5-a291-21a686a47b2f"
      },
      "source": [
        "train = pd.read_csv(\"drive/My Drive/Colab Notebooks/Tugas Akhir/PROGRAM/ADD/Dataset/hadits2k - hadits2k.csv\", names=[\"hadis\"])\n",
        "train.shape\n",
        "train.head()"
      ],
      "execution_count": null,
      "outputs": [
        {
          "output_type": "execute_result",
          "data": {
            "text/html": [
              "<div>\n",
              "<style scoped>\n",
              "    .dataframe tbody tr th:only-of-type {\n",
              "        vertical-align: middle;\n",
              "    }\n",
              "\n",
              "    .dataframe tbody tr th {\n",
              "        vertical-align: top;\n",
              "    }\n",
              "\n",
              "    .dataframe thead th {\n",
              "        text-align: right;\n",
              "    }\n",
              "</style>\n",
              "<table border=\"1\" class=\"dataframe\">\n",
              "  <thead>\n",
              "    <tr style=\"text-align: right;\">\n",
              "      <th></th>\n",
              "      <th>hadis</th>\n",
              "    </tr>\n",
              "  </thead>\n",
              "  <tbody>\n",
              "    <tr>\n",
              "      <th>0</th>\n",
              "      <td>Semua perbuatan tergantung niatnya, dan (balas...</td>\n",
              "    </tr>\n",
              "    <tr>\n",
              "      <th>1</th>\n",
              "      <td>Terkadang datang kepadaku seperti suara gemeri...</td>\n",
              "    </tr>\n",
              "    <tr>\n",
              "      <th>2</th>\n",
              "      <td>Bacalah? Beliau menjawab: Aku tidak bisa baca....</td>\n",
              "    </tr>\n",
              "    <tr>\n",
              "      <th>3</th>\n",
              "      <td>sangat kuat keinginannya untuk menghafalkan ap...</td>\n",
              "    </tr>\n",
              "    <tr>\n",
              "      <th>4</th>\n",
              "      <td>manusia yang paling lembut terutama pada bulan...</td>\n",
              "    </tr>\n",
              "  </tbody>\n",
              "</table>\n",
              "</div>"
            ],
            "text/plain": [
              "                                               hadis\n",
              "0  Semua perbuatan tergantung niatnya, dan (balas...\n",
              "1  Terkadang datang kepadaku seperti suara gemeri...\n",
              "2  Bacalah? Beliau menjawab: Aku tidak bisa baca....\n",
              "3  sangat kuat keinginannya untuk menghafalkan ap...\n",
              "4  manusia yang paling lembut terutama pada bulan..."
            ]
          },
          "metadata": {},
          "execution_count": 2
        }
      ]
    },
    {
      "cell_type": "code",
      "metadata": {
        "colab": {
          "base_uri": "https://localhost:8080/"
        },
        "id": "Yf3f4TvEac7a",
        "outputId": "6a27f29e-aed4-405d-b3c3-b54c5f3e5765"
      },
      "source": [
        "train.shape"
      ],
      "execution_count": null,
      "outputs": [
        {
          "output_type": "execute_result",
          "data": {
            "text/plain": [
              "(1995, 1)"
            ]
          },
          "metadata": {},
          "execution_count": 3
        }
      ]
    },
    {
      "cell_type": "code",
      "metadata": {
        "colab": {
          "base_uri": "https://localhost:8080/",
          "height": 202
        },
        "id": "6Nt57dvZCaUv",
        "outputId": "80888200-3ac1-40ce-a873-85e5e2e0dc91"
      },
      "source": [
        "label = pd.read_csv(\"drive/My Drive/Colab Notebooks/Tugas Akhir/PROGRAM/ADD/Dataset/label2k - label2k.csv\")\n",
        "label.shape\n",
        "label.head()"
      ],
      "execution_count": null,
      "outputs": [
        {
          "output_type": "execute_result",
          "data": {
            "text/html": [
              "<div>\n",
              "<style scoped>\n",
              "    .dataframe tbody tr th:only-of-type {\n",
              "        vertical-align: middle;\n",
              "    }\n",
              "\n",
              "    .dataframe tbody tr th {\n",
              "        vertical-align: top;\n",
              "    }\n",
              "\n",
              "    .dataframe thead th {\n",
              "        text-align: right;\n",
              "    }\n",
              "</style>\n",
              "<table border=\"1\" class=\"dataframe\">\n",
              "  <thead>\n",
              "    <tr style=\"text-align: right;\">\n",
              "      <th></th>\n",
              "      <th>anjuran</th>\n",
              "      <th>larangan</th>\n",
              "      <th>informasi</th>\n",
              "    </tr>\n",
              "  </thead>\n",
              "  <tbody>\n",
              "    <tr>\n",
              "      <th>0</th>\n",
              "      <td>0</td>\n",
              "      <td>0</td>\n",
              "      <td>1</td>\n",
              "    </tr>\n",
              "    <tr>\n",
              "      <th>1</th>\n",
              "      <td>0</td>\n",
              "      <td>0</td>\n",
              "      <td>1</td>\n",
              "    </tr>\n",
              "    <tr>\n",
              "      <th>2</th>\n",
              "      <td>0</td>\n",
              "      <td>0</td>\n",
              "      <td>1</td>\n",
              "    </tr>\n",
              "    <tr>\n",
              "      <th>3</th>\n",
              "      <td>0</td>\n",
              "      <td>1</td>\n",
              "      <td>1</td>\n",
              "    </tr>\n",
              "    <tr>\n",
              "      <th>4</th>\n",
              "      <td>0</td>\n",
              "      <td>0</td>\n",
              "      <td>1</td>\n",
              "    </tr>\n",
              "  </tbody>\n",
              "</table>\n",
              "</div>"
            ],
            "text/plain": [
              "   anjuran  larangan  informasi\n",
              "0        0         0          1\n",
              "1        0         0          1\n",
              "2        0         0          1\n",
              "3        0         1          1\n",
              "4        0         0          1"
            ]
          },
          "metadata": {},
          "execution_count": 4
        }
      ]
    },
    {
      "cell_type": "markdown",
      "metadata": {
        "id": "LE6gpLCV7Sj6"
      },
      "source": [
        "**Remove Punctuation**"
      ]
    },
    {
      "cell_type": "code",
      "metadata": {
        "id": "Ah9Z3U6UCb22"
      },
      "source": [
        "punc = string.punctuation.replace('<', '').replace('>', '')\n",
        "pat = re.compile(f'[{punc}]')\n",
        "train[\"h_punc\"] = train['hadis'].replace(pat, '')"
      ],
      "execution_count": null,
      "outputs": []
    },
    {
      "cell_type": "markdown",
      "metadata": {
        "id": "QguAvOxe7oTD"
      },
      "source": [
        "**Case Folding**"
      ]
    },
    {
      "cell_type": "code",
      "metadata": {
        "id": "KCnfE-X_Cez1"
      },
      "source": [
        "train['h_punc_low'] = train['h_punc'].str.lower()"
      ],
      "execution_count": null,
      "outputs": []
    },
    {
      "cell_type": "markdown",
      "metadata": {
        "id": "G7Q010Z77xSu"
      },
      "source": [
        "**Stemming**"
      ]
    },
    {
      "cell_type": "code",
      "metadata": {
        "colab": {
          "base_uri": "https://localhost:8080/"
        },
        "id": "OWOxS4K3ChO5",
        "outputId": "fd13882c-b587-45f5-d943-7758b37ab7c3"
      },
      "source": [
        "pip install Sastrawi"
      ],
      "execution_count": null,
      "outputs": [
        {
          "output_type": "stream",
          "name": "stdout",
          "text": [
            "Collecting Sastrawi\n",
            "  Downloading Sastrawi-1.0.1-py2.py3-none-any.whl (209 kB)\n",
            "\u001b[K     |████████████████████████████████| 209 kB 5.3 MB/s \n",
            "\u001b[?25hInstalling collected packages: Sastrawi\n",
            "Successfully installed Sastrawi-1.0.1\n"
          ]
        }
      ]
    },
    {
      "cell_type": "code",
      "metadata": {
        "id": "fBZ08sbHzWTp"
      },
      "source": [
        "from Sastrawi.Stemmer.StemmerFactory import StemmerFactory\n",
        "from Sastrawi.StopWordRemover.StopWordRemoverFactory import StopWordRemoverFactory"
      ],
      "execution_count": null,
      "outputs": []
    },
    {
      "cell_type": "code",
      "metadata": {
        "id": "uCHzA39cCi8l"
      },
      "source": [
        "stemmer = StemmerFactory().create_stemmer()\n",
        "\n",
        "list_low = train['h_punc_low'].tolist()\n",
        "\n",
        "text_stemmed = map(lambda x: stemmer.stem(x), list_low)\n",
        "\n",
        "list_stemmed = []\n",
        "for i in text_stemmed:\n",
        "  list_stemmed.append(i)\n",
        "\n",
        "train['h_punc_low_stem'] = pd.DataFrame(list_stemmed)"
      ],
      "execution_count": null,
      "outputs": []
    },
    {
      "cell_type": "code",
      "metadata": {
        "colab": {
          "base_uri": "https://localhost:8080/",
          "height": 202
        },
        "id": "cPLsLOeo8HUX",
        "outputId": "61dc3c83-7170-4d11-d048-0008034df749"
      },
      "source": [
        "train.head()"
      ],
      "execution_count": null,
      "outputs": [
        {
          "output_type": "execute_result",
          "data": {
            "text/html": [
              "<div>\n",
              "<style scoped>\n",
              "    .dataframe tbody tr th:only-of-type {\n",
              "        vertical-align: middle;\n",
              "    }\n",
              "\n",
              "    .dataframe tbody tr th {\n",
              "        vertical-align: top;\n",
              "    }\n",
              "\n",
              "    .dataframe thead th {\n",
              "        text-align: right;\n",
              "    }\n",
              "</style>\n",
              "<table border=\"1\" class=\"dataframe\">\n",
              "  <thead>\n",
              "    <tr style=\"text-align: right;\">\n",
              "      <th></th>\n",
              "      <th>hadis</th>\n",
              "      <th>h_punc</th>\n",
              "      <th>h_punc_low</th>\n",
              "      <th>h_punc_low_stem</th>\n",
              "    </tr>\n",
              "  </thead>\n",
              "  <tbody>\n",
              "    <tr>\n",
              "      <th>0</th>\n",
              "      <td>Semua perbuatan tergantung niatnya, dan (balas...</td>\n",
              "      <td>Semua perbuatan tergantung niatnya dan balasan...</td>\n",
              "      <td>semua perbuatan tergantung niatnya dan balasan...</td>\n",
              "      <td>semua buat gantung niat dan balas bagi tiaptia...</td>\n",
              "    </tr>\n",
              "    <tr>\n",
              "      <th>1</th>\n",
              "      <td>Terkadang datang kepadaku seperti suara gemeri...</td>\n",
              "      <td>Terkadang datang kepadaku seperti suara gemeri...</td>\n",
              "      <td>terkadang datang kepadaku seperti suara gemeri...</td>\n",
              "      <td>terkadang datang kepada seperti suara gerincin...</td>\n",
              "    </tr>\n",
              "    <tr>\n",
              "      <th>2</th>\n",
              "      <td>Bacalah? Beliau menjawab: Aku tidak bisa baca....</td>\n",
              "      <td>Bacalah Beliau menjawab Aku tidak bisa baca Na...</td>\n",
              "      <td>bacalah beliau menjawab aku tidak bisa baca na...</td>\n",
              "      <td>baca beliau jawab aku tidak bisa baca nabi jel...</td>\n",
              "    </tr>\n",
              "    <tr>\n",
              "      <th>3</th>\n",
              "      <td>sangat kuat keinginannya untuk menghafalkan ap...</td>\n",
              "      <td>sangat kuat keinginannya untuk menghafalkan ap...</td>\n",
              "      <td>sangat kuat keinginannya untuk menghafalkan ap...</td>\n",
              "      <td>sangat kuat ingin untuk hafal apa yang turun a...</td>\n",
              "    </tr>\n",
              "    <tr>\n",
              "      <th>4</th>\n",
              "      <td>manusia yang paling lembut terutama pada bulan...</td>\n",
              "      <td>manusia yang paling lembut terutama pada bulan...</td>\n",
              "      <td>manusia yang paling lembut terutama pada bulan...</td>\n",
              "      <td>manusia yang paling lembut utama pada bulan ra...</td>\n",
              "    </tr>\n",
              "  </tbody>\n",
              "</table>\n",
              "</div>"
            ],
            "text/plain": [
              "                                               hadis  ...                                    h_punc_low_stem\n",
              "0  Semua perbuatan tergantung niatnya, dan (balas...  ...  semua buat gantung niat dan balas bagi tiaptia...\n",
              "1  Terkadang datang kepadaku seperti suara gemeri...  ...  terkadang datang kepada seperti suara gerincin...\n",
              "2  Bacalah? Beliau menjawab: Aku tidak bisa baca....  ...  baca beliau jawab aku tidak bisa baca nabi jel...\n",
              "3  sangat kuat keinginannya untuk menghafalkan ap...  ...  sangat kuat ingin untuk hafal apa yang turun a...\n",
              "4  manusia yang paling lembut terutama pada bulan...  ...  manusia yang paling lembut utama pada bulan ra...\n",
              "\n",
              "[5 rows x 4 columns]"
            ]
          },
          "metadata": {},
          "execution_count": 10
        }
      ]
    },
    {
      "cell_type": "code",
      "metadata": {
        "id": "qEacnyBB93lD"
      },
      "source": [
        "def tokenizing(dataTrain):\n",
        "  tokenizer = Tokenizer(num_words=732)\n",
        "  tokenizer.fit_on_texts(list(dataTrain))\n",
        "  dataTrain = tokenizer.texts_to_sequences(dataTrain)\n",
        "  dataTrain = sequence.pad_sequences(dataTrain, maxlen=100)\n",
        "  return dataTrain"
      ],
      "execution_count": null,
      "outputs": []
    },
    {
      "cell_type": "code",
      "metadata": {
        "id": "N3vjJLmX6UMl"
      },
      "source": [
        "train2 = tokenizing(train['h_punc_low_stem'].values)\n",
        "X_train2, X_test2, y_train2, y_test2 = train_test_split(train2, label, test_size=0.2, random_state=3)\n",
        "\n",
        "train3 = tokenizing(train['h_punc_low'].values)\n",
        "X_train3, X_test3, y_train3, y_test3 = train_test_split(train3, label, test_size=0.2, random_state=3)"
      ],
      "execution_count": null,
      "outputs": []
    },
    {
      "cell_type": "code",
      "metadata": {
        "id": "6kmED_M3-6F4"
      },
      "source": [
        "def get_cnn_valid_1():\n",
        "  opt = tf.keras.optimizers.Adam(learning_rate=0.01)\n",
        "  model = tf.keras.Sequential()\n",
        "  model.add(tf.keras.layers.Embedding(input_dim=2000, input_length=732, output_dim=100))\n",
        "  model.add(tf.keras.layers.Conv1D(filters=512, kernel_size=3, padding='valid', strides=1, activation='relu'))\n",
        "  model.add(tf.keras.layers.GlobalMaxPool1D())\n",
        "  model.add(tf.keras.layers.Dropout(0.5))\n",
        "  model.add(tf.keras.layers.Dense(3, activation='sigmoid'))\n",
        "  model.compile(loss='binary_crossentropy', optimizer=opt, metrics=['accuracy'])\n",
        "  return model"
      ],
      "execution_count": null,
      "outputs": []
    },
    {
      "cell_type": "code",
      "metadata": {
        "id": "CBT96F-DN78U"
      },
      "source": [
        "def get_cnn_valid_3():\n",
        "  opt = tf.keras.optimizers.Adam(learning_rate=0.01)\n",
        "  model = tf.keras.Sequential()\n",
        "  model.add(tf.keras.layers.Embedding(input_dim=2000, input_length=732, output_dim=100))\n",
        "  model.add(tf.keras.layers.Conv1D(filters=512, kernel_size=3, padding='valid', strides=3, activation='relu'))\n",
        "  model.add(tf.keras.layers.GlobalMaxPool1D())\n",
        "  model.add(tf.keras.layers.Dropout(0.5))\n",
        "  model.add(tf.keras.layers.Dense(3, activation='sigmoid'))\n",
        "  model.compile(loss='binary_crossentropy', optimizer=opt, metrics=['accuracy'])\n",
        "  return model"
      ],
      "execution_count": null,
      "outputs": []
    },
    {
      "cell_type": "code",
      "metadata": {
        "id": "ed4gjC-OaV2Y"
      },
      "source": [
        "def get_cnn_same_1():\n",
        "  opt = tf.keras.optimizers.Adam(learning_rate=0.01)\n",
        "  model = tf.keras.Sequential()\n",
        "  model.add(tf.keras.layers.Embedding(input_dim=2000, input_length=732, output_dim=100))\n",
        "  model.add(tf.keras.layers.Conv1D(filters=512, kernel_size=3, padding='same', strides=1, activation='relu'))\n",
        "  model.add(tf.keras.layers.GlobalMaxPool1D())\n",
        "  model.add(tf.keras.layers.Dropout(0.5))\n",
        "  model.add(tf.keras.layers.Dense(3, activation='sigmoid'))\n",
        "  model.compile(loss='binary_crossentropy', optimizer=opt, metrics=['accuracy'])\n",
        "  return model"
      ],
      "execution_count": null,
      "outputs": []
    },
    {
      "cell_type": "code",
      "metadata": {
        "id": "8jdRkDhDUPFD"
      },
      "source": [
        "def get_cnn_same_3():\n",
        "  opt = tf.keras.optimizers.Adam(learning_rate=0.01)\n",
        "  model = tf.keras.Sequential()\n",
        "  model.add(tf.keras.layers.Embedding(input_dim=2000, input_length=732, output_dim=100))\n",
        "  model.add(tf.keras.layers.Conv1D(filters=512, kernel_size=3, padding='same', strides=3, activation='relu'))\n",
        "  model.add(tf.keras.layers.GlobalMaxPool1D())\n",
        "  model.add(tf.keras.layers.Dropout(0.5))\n",
        "  model.add(tf.keras.layers.Dense(3, activation='sigmoid'))\n",
        "  model.compile(loss='binary_crossentropy', optimizer=opt, metrics=['accuracy'])\n",
        "  return model"
      ],
      "execution_count": null,
      "outputs": []
    },
    {
      "cell_type": "markdown",
      "metadata": {
        "id": "6Ghqqjrq5J2m"
      },
      "source": [
        "**CNN MODEL**"
      ]
    },
    {
      "cell_type": "markdown",
      "metadata": {
        "id": "r1vkl79Ue0li"
      },
      "source": [
        "Stemming, Padding, 1 Strides"
      ]
    },
    {
      "cell_type": "code",
      "metadata": {
        "colab": {
          "base_uri": "https://localhost:8080/"
        },
        "id": "0xLx0DOve_it",
        "outputId": "3d443164-cb52-4d8d-b9fe-bfc3b1e5e1f0"
      },
      "source": [
        "model_cnn_stem_same_1 = get_cnn_same_1()\n",
        "time_cnn_stem_same_1 = time.time()\n",
        "model_cnn_stem_same_1_fit = model_cnn_stem_same_1.fit(X_train2, y_train2, epochs=15, validation_data=(X_test2, y_test2), verbose=False, batch_size=32)\n",
        "time_cnn_stem_same_1 = time.time() - time_cnn_stem_same_1\n",
        "# model_cnn_stem_same_1.save('drive/My Drive/Colab Notebooks/Tugas Akhir/PROGRAM/ADD/Hasil Uji/model_cnn_stem_same_1')"
      ],
      "execution_count": null,
      "outputs": [
        {
          "output_type": "stream",
          "name": "stdout",
          "text": [
            "WARNING:tensorflow:Model was constructed with shape (None, 732) for input KerasTensor(type_spec=TensorSpec(shape=(None, 732), dtype=tf.float32, name='embedding_input'), name='embedding_input', description=\"created by layer 'embedding_input'\"), but it was called on an input with incompatible shape (None, 100).\n",
            "WARNING:tensorflow:Model was constructed with shape (None, 732) for input KerasTensor(type_spec=TensorSpec(shape=(None, 732), dtype=tf.float32, name='embedding_input'), name='embedding_input', description=\"created by layer 'embedding_input'\"), but it was called on an input with incompatible shape (None, 100).\n",
            "WARNING:tensorflow:Model was constructed with shape (None, 732) for input KerasTensor(type_spec=TensorSpec(shape=(None, 732), dtype=tf.float32, name='embedding_input'), name='embedding_input', description=\"created by layer 'embedding_input'\"), but it was called on an input with incompatible shape (None, 100).\n"
          ]
        }
      ]
    },
    {
      "cell_type": "markdown",
      "metadata": {
        "id": "0WntexAWfP3l"
      },
      "source": [
        "Stemming, Padding, 3 Strides"
      ]
    },
    {
      "cell_type": "code",
      "metadata": {
        "colab": {
          "base_uri": "https://localhost:8080/"
        },
        "id": "x73Ej6i2fO_v",
        "outputId": "fd3a4e4c-fe4e-4576-c298-e020baf70b7b"
      },
      "source": [
        "model_cnn_stem_same_3 = get_cnn_same_3()\n",
        "time_cnn_stem_same_3 = time.time()\n",
        "model_cnn_stem_same_3_fit = model_cnn_stem_same_3.fit(X_train2, y_train2, epochs=15, validation_data=(X_test2, y_test2), verbose=False, batch_size=32)\n",
        "time_cnn_stem_same_3 = time.time() - time_cnn_stem_same_3\n",
        "# model_cnn_stem_same_3.save('drive/My Drive/Colab Notebooks/Tugas Akhir/PROGRAM/ADD/Hasil Uji/model_cnn_stem_same_3')"
      ],
      "execution_count": null,
      "outputs": [
        {
          "output_type": "stream",
          "name": "stdout",
          "text": [
            "WARNING:tensorflow:Model was constructed with shape (None, 732) for input KerasTensor(type_spec=TensorSpec(shape=(None, 732), dtype=tf.float32, name='embedding_1_input'), name='embedding_1_input', description=\"created by layer 'embedding_1_input'\"), but it was called on an input with incompatible shape (None, 100).\n",
            "WARNING:tensorflow:Model was constructed with shape (None, 732) for input KerasTensor(type_spec=TensorSpec(shape=(None, 732), dtype=tf.float32, name='embedding_1_input'), name='embedding_1_input', description=\"created by layer 'embedding_1_input'\"), but it was called on an input with incompatible shape (None, 100).\n",
            "WARNING:tensorflow:Model was constructed with shape (None, 732) for input KerasTensor(type_spec=TensorSpec(shape=(None, 732), dtype=tf.float32, name='embedding_1_input'), name='embedding_1_input', description=\"created by layer 'embedding_1_input'\"), but it was called on an input with incompatible shape (None, 100).\n"
          ]
        }
      ]
    },
    {
      "cell_type": "markdown",
      "metadata": {
        "id": "8LUH3CmCch-q"
      },
      "source": [
        "Stemming, No Padding, 1 Strides"
      ]
    },
    {
      "cell_type": "code",
      "metadata": {
        "colab": {
          "base_uri": "https://localhost:8080/"
        },
        "id": "Z1gd02n7WabC",
        "outputId": "ec5bc1e8-0178-4102-996a-5b5f4892fbc1"
      },
      "source": [
        "model_cnn_stem_valid_1 = get_cnn_valid_1()\n",
        "time_cnn_stem_valid_1 = time.time()\n",
        "model_cnn_stem_valid_1_fit = model_cnn_stem_valid_1.fit(X_train2, y_train2, epochs=15, validation_data=(X_test2, y_test2), verbose=False, batch_size=32)\n",
        "time_cnn_stem_valid_1 = time.time() - time_cnn_stem_valid_1\n",
        "# model_cnn_stem_valid_1.save('drive/My Drive/Colab Notebooks/Tugas Akhir/PROGRAM/ADD/Hasil Uji/model_cnn_stem_valid_1')"
      ],
      "execution_count": null,
      "outputs": [
        {
          "output_type": "stream",
          "name": "stdout",
          "text": [
            "WARNING:tensorflow:Model was constructed with shape (None, 732) for input KerasTensor(type_spec=TensorSpec(shape=(None, 732), dtype=tf.float32, name='embedding_2_input'), name='embedding_2_input', description=\"created by layer 'embedding_2_input'\"), but it was called on an input with incompatible shape (None, 100).\n",
            "WARNING:tensorflow:Model was constructed with shape (None, 732) for input KerasTensor(type_spec=TensorSpec(shape=(None, 732), dtype=tf.float32, name='embedding_2_input'), name='embedding_2_input', description=\"created by layer 'embedding_2_input'\"), but it was called on an input with incompatible shape (None, 100).\n",
            "WARNING:tensorflow:Model was constructed with shape (None, 732) for input KerasTensor(type_spec=TensorSpec(shape=(None, 732), dtype=tf.float32, name='embedding_2_input'), name='embedding_2_input', description=\"created by layer 'embedding_2_input'\"), but it was called on an input with incompatible shape (None, 100).\n",
            "INFO:tensorflow:Assets written to: drive/My Drive/Colab Notebooks/Tugas Akhir/ADD/Hasil Uji/model_cnn_stem_valid_1/assets\n"
          ]
        }
      ]
    },
    {
      "cell_type": "markdown",
      "metadata": {
        "id": "lWL0YKdZefS1"
      },
      "source": [
        "Stemming, No Padding, 3 Strides"
      ]
    },
    {
      "cell_type": "code",
      "metadata": {
        "colab": {
          "base_uri": "https://localhost:8080/"
        },
        "id": "p-K-587Xea6O",
        "outputId": "f48a9d59-66c6-41b3-bf98-c02acca1ebce"
      },
      "source": [
        "model_cnn_stem_valid_3 = get_cnn_valid_3()\n",
        "time_cnn_stem_valid_3 = time.time()\n",
        "model_cnn_stem_valid_3_fit = model_cnn_stem_valid_3.fit(X_train2, y_train2, epochs=15, validation_data=(X_test2, y_test2), verbose=False, batch_size=32)\n",
        "time_cnn_stem_valid_3 = time.time() - time_cnn_stem_valid_3\n",
        "# model_cnn_stem_valid_3.save('drive/My Drive/Colab Notebooks/Tugas Akhir/PROGRAM/ADD/Hasil Uji/model_cnn_stem_valid_3')"
      ],
      "execution_count": null,
      "outputs": [
        {
          "output_type": "stream",
          "name": "stdout",
          "text": [
            "WARNING:tensorflow:Model was constructed with shape (None, 732) for input KerasTensor(type_spec=TensorSpec(shape=(None, 732), dtype=tf.float32, name='embedding_16_input'), name='embedding_16_input', description=\"created by layer 'embedding_16_input'\"), but it was called on an input with incompatible shape (None, 100).\n",
            "WARNING:tensorflow:Model was constructed with shape (None, 732) for input KerasTensor(type_spec=TensorSpec(shape=(None, 732), dtype=tf.float32, name='embedding_16_input'), name='embedding_16_input', description=\"created by layer 'embedding_16_input'\"), but it was called on an input with incompatible shape (None, 100).\n",
            "WARNING:tensorflow:Model was constructed with shape (None, 732) for input KerasTensor(type_spec=TensorSpec(shape=(None, 732), dtype=tf.float32, name='embedding_16_input'), name='embedding_16_input', description=\"created by layer 'embedding_16_input'\"), but it was called on an input with incompatible shape (None, 100).\n"
          ]
        }
      ]
    },
    {
      "cell_type": "markdown",
      "metadata": {
        "id": "ROe_lWsCgpRp"
      },
      "source": [
        "No Stemming, Padding, 1 Strides"
      ]
    },
    {
      "cell_type": "code",
      "metadata": {
        "colab": {
          "base_uri": "https://localhost:8080/"
        },
        "id": "GhyWGR0OWzn2",
        "outputId": "5bba051f-aca3-401d-f552-c962407dc748"
      },
      "source": [
        "model_cnn_same_1 = get_cnn_same_1()\n",
        "time_cnn_same_1 = time.time()\n",
        "model_cnn_same_1_fit = model_cnn_same_1.fit(X_train3, y_train3, epochs=15, validation_data=(X_test3, y_test3), verbose=False, batch_size=32)\n",
        "time_cnn_same_1 = time.time() - time_cnn_same_1\n",
        "# model_cnn_same_1.save('drive/My Drive/Colab Notebooks/Tugas Akhir/PROGRAM/ADD/Hasil Uji/model_cnn_same_1')"
      ],
      "execution_count": null,
      "outputs": [
        {
          "output_type": "stream",
          "name": "stdout",
          "text": [
            "WARNING:tensorflow:Model was constructed with shape (None, 732) for input KerasTensor(type_spec=TensorSpec(shape=(None, 732), dtype=tf.float32, name='embedding_4_input'), name='embedding_4_input', description=\"created by layer 'embedding_4_input'\"), but it was called on an input with incompatible shape (None, 100).\n",
            "WARNING:tensorflow:Model was constructed with shape (None, 732) for input KerasTensor(type_spec=TensorSpec(shape=(None, 732), dtype=tf.float32, name='embedding_4_input'), name='embedding_4_input', description=\"created by layer 'embedding_4_input'\"), but it was called on an input with incompatible shape (None, 100).\n",
            "WARNING:tensorflow:Model was constructed with shape (None, 732) for input KerasTensor(type_spec=TensorSpec(shape=(None, 732), dtype=tf.float32, name='embedding_4_input'), name='embedding_4_input', description=\"created by layer 'embedding_4_input'\"), but it was called on an input with incompatible shape (None, 100).\n"
          ]
        }
      ]
    },
    {
      "cell_type": "markdown",
      "metadata": {
        "id": "Pf-KTFlMhdoz"
      },
      "source": [
        "No Stemming, Padding, 3 Strides"
      ]
    },
    {
      "cell_type": "code",
      "metadata": {
        "colab": {
          "base_uri": "https://localhost:8080/"
        },
        "id": "qJLRcJ9lhfmL",
        "outputId": "ec659bbb-a68b-4598-cbb9-bbb72e46a31a"
      },
      "source": [
        "model_cnn_same_3 = get_cnn_same_3()\n",
        "time_cnn_same_3 = time.time()\n",
        "model_cnn_same_3_fit = model_cnn_same_3.fit(X_train3, y_train3, epochs=15, validation_data=(X_test3, y_test3), verbose=False, batch_size=32)\n",
        "time_cnn_same_3 = time.time() - time_cnn_same_3\n",
        "# model_cnn_same_3.save('drive/My Drive/Colab Notebooks/Tugas Akhir/PROGRAM/ADD/Hasil Uji/model_cnn_same_3')"
      ],
      "execution_count": null,
      "outputs": [
        {
          "output_type": "stream",
          "name": "stdout",
          "text": [
            "WARNING:tensorflow:Model was constructed with shape (None, 732) for input KerasTensor(type_spec=TensorSpec(shape=(None, 732), dtype=tf.float32, name='embedding_5_input'), name='embedding_5_input', description=\"created by layer 'embedding_5_input'\"), but it was called on an input with incompatible shape (None, 100).\n",
            "WARNING:tensorflow:Model was constructed with shape (None, 732) for input KerasTensor(type_spec=TensorSpec(shape=(None, 732), dtype=tf.float32, name='embedding_5_input'), name='embedding_5_input', description=\"created by layer 'embedding_5_input'\"), but it was called on an input with incompatible shape (None, 100).\n",
            "WARNING:tensorflow:Model was constructed with shape (None, 732) for input KerasTensor(type_spec=TensorSpec(shape=(None, 732), dtype=tf.float32, name='embedding_5_input'), name='embedding_5_input', description=\"created by layer 'embedding_5_input'\"), but it was called on an input with incompatible shape (None, 100).\n"
          ]
        }
      ]
    },
    {
      "cell_type": "markdown",
      "metadata": {
        "id": "q2AR5TVJmglt"
      },
      "source": [
        "No Stemming, No Padding, 1 Strides"
      ]
    },
    {
      "cell_type": "code",
      "metadata": {
        "colab": {
          "base_uri": "https://localhost:8080/"
        },
        "id": "Y0pNQCpGmkVe",
        "outputId": "f7ce8d66-16cd-4471-bb02-41282faa8446"
      },
      "source": [
        "model_cnn_valid_1 = get_cnn_valid_1()\n",
        "time_cnn_valid_1 = time.time()\n",
        "model_cnn_valid_1_fit = model_cnn_valid_1.fit(X_train3, y_train3, epochs=15, validation_data=(X_test3, y_test3), verbose=False, batch_size=32)\n",
        "time_cnn_valid_1 = time.time() - time_cnn_valid_1\n",
        "# model_cnn_valid_1.save('drive/My Drive/Colab Notebooks/Tugas Akhir/PROGRAM/ADD/Hasil Uji/model_cnn_valid_1')"
      ],
      "execution_count": null,
      "outputs": [
        {
          "output_type": "stream",
          "name": "stdout",
          "text": [
            "WARNING:tensorflow:Model was constructed with shape (None, 732) for input KerasTensor(type_spec=TensorSpec(shape=(None, 732), dtype=tf.float32, name='embedding_11_input'), name='embedding_11_input', description=\"created by layer 'embedding_11_input'\"), but it was called on an input with incompatible shape (None, 100).\n",
            "WARNING:tensorflow:Model was constructed with shape (None, 732) for input KerasTensor(type_spec=TensorSpec(shape=(None, 732), dtype=tf.float32, name='embedding_11_input'), name='embedding_11_input', description=\"created by layer 'embedding_11_input'\"), but it was called on an input with incompatible shape (None, 100).\n",
            "WARNING:tensorflow:Model was constructed with shape (None, 732) for input KerasTensor(type_spec=TensorSpec(shape=(None, 732), dtype=tf.float32, name='embedding_11_input'), name='embedding_11_input', description=\"created by layer 'embedding_11_input'\"), but it was called on an input with incompatible shape (None, 100).\n",
            "INFO:tensorflow:Assets written to: drive/My Drive/Colab Notebooks/Tugas Akhir/ADD/Hasil Uji/model_cnn_valid_1/assets\n"
          ]
        }
      ]
    },
    {
      "cell_type": "markdown",
      "metadata": {
        "id": "kq1cL5u2m02A"
      },
      "source": [
        "No Stemming, No Padding, 3 Strides"
      ]
    },
    {
      "cell_type": "code",
      "metadata": {
        "colab": {
          "base_uri": "https://localhost:8080/"
        },
        "id": "jaIu6f6CnRu7",
        "outputId": "9a40ac57-98f9-444d-9021-1cf0ec88939e"
      },
      "source": [
        "model_cnn_valid_3 = get_cnn_valid_3()\n",
        "time_cnn_valid_3 = time.time()\n",
        "model_cnn_valid_3_fit = model_cnn_valid_3.fit(X_train3, y_train3, epochs=15, validation_data=(X_test3, y_test3), verbose=False, batch_size=32)\n",
        "time_cnn_valid_3 = time.time() - time_cnn_valid_3\n",
        "# model_cnn_valid_3.save('drive/My Drive/Colab Notebooks/Tugas Akhir/PROGRAM/ADD/Hasil Uji/model_cnn_valid_3')"
      ],
      "execution_count": null,
      "outputs": [
        {
          "output_type": "stream",
          "name": "stdout",
          "text": [
            "WARNING:tensorflow:Model was constructed with shape (None, 732) for input KerasTensor(type_spec=TensorSpec(shape=(None, 732), dtype=tf.float32, name='embedding_17_input'), name='embedding_17_input', description=\"created by layer 'embedding_17_input'\"), but it was called on an input with incompatible shape (None, 100).\n",
            "WARNING:tensorflow:Model was constructed with shape (None, 732) for input KerasTensor(type_spec=TensorSpec(shape=(None, 732), dtype=tf.float32, name='embedding_17_input'), name='embedding_17_input', description=\"created by layer 'embedding_17_input'\"), but it was called on an input with incompatible shape (None, 100).\n",
            "WARNING:tensorflow:Model was constructed with shape (None, 732) for input KerasTensor(type_spec=TensorSpec(shape=(None, 732), dtype=tf.float32, name='embedding_17_input'), name='embedding_17_input', description=\"created by layer 'embedding_17_input'\"), but it was called on an input with incompatible shape (None, 100).\n"
          ]
        }
      ]
    },
    {
      "cell_type": "markdown",
      "metadata": {
        "id": "Evmx2MvI4Mth"
      },
      "source": [
        "**LOAD MODEL TERSIMPAN**"
      ]
    },
    {
      "cell_type": "code",
      "metadata": {
        "colab": {
          "base_uri": "https://localhost:8080/"
        },
        "id": "NR9_HhdZ4Bbd",
        "outputId": "10917f7d-8174-4403-84de-e833f6584bd1"
      },
      "source": [
        "load_model_cnn_stem_same_1 = keras.models.load_model('drive/My Drive/Colab Notebooks/Tugas Akhir/PROGRAM/ADD/Hasil Uji/model_cnn_stem_same_1')\n",
        "\n",
        "y_pred_load_model_cnn_stem_same_1 = load_model_cnn_stem_same_1.predict(X_test2, verbose=False)\n",
        "prediction_load_model_cnn_stem_same_1 = (y_pred_load_model_cnn_stem_same_1 > 0.5)\n",
        "\n",
        "stemming_y = []\n",
        "stemming_y.append(round(hamming_loss(y_test2, prediction_load_model_cnn_stem_same_1), 4))\n",
        "stemming_y.append(round(time_cnn_stem_same_1, 4))"
      ],
      "execution_count": null,
      "outputs": [
        {
          "output_type": "stream",
          "name": "stdout",
          "text": [
            "WARNING:tensorflow:Model was constructed with shape (None, 732) for input KerasTensor(type_spec=TensorSpec(shape=(None, 732), dtype=tf.float32, name='embedding_input'), name='embedding_input', description=\"created by layer 'embedding_input'\"), but it was called on an input with incompatible shape (None, 100).\n"
          ]
        }
      ]
    },
    {
      "cell_type": "code",
      "metadata": {
        "colab": {
          "base_uri": "https://localhost:8080/"
        },
        "id": "eCAuye8Q9r_j",
        "outputId": "efcd979f-4bcb-4633-ae33-fdfa96326396"
      },
      "source": [
        "load_model_cnn_stem_same_3 = keras.models.load_model('drive/My Drive/Colab Notebooks/Tugas Akhir/PROGRAM/ADD/Hasil Uji/model_cnn_stem_same_3')\n",
        "\n",
        "y_pred_load_model_cnn_stem_same_3 = load_model_cnn_stem_same_3.predict(X_test2, verbose=False)\n",
        "prediction_load_model_cnn_stem_same_3 = (y_pred_load_model_cnn_stem_same_3 > 0.5)\n",
        "\n",
        "stemming_y.append(round(hamming_loss(y_test2, prediction_load_model_cnn_stem_same_3), 4))\n",
        "stemming_y.append(round(time_cnn_stem_same_3, 4))"
      ],
      "execution_count": null,
      "outputs": [
        {
          "output_type": "stream",
          "name": "stdout",
          "text": [
            "WARNING:tensorflow:Model was constructed with shape (None, 732) for input KerasTensor(type_spec=TensorSpec(shape=(None, 732), dtype=tf.float32, name='embedding_1_input'), name='embedding_1_input', description=\"created by layer 'embedding_1_input'\"), but it was called on an input with incompatible shape (None, 100).\n"
          ]
        }
      ]
    },
    {
      "cell_type": "code",
      "metadata": {
        "colab": {
          "base_uri": "https://localhost:8080/"
        },
        "id": "1CRQIU1PufrB",
        "outputId": "a78713ec-a0f1-4486-d7e4-bd5e4e7a8c9b"
      },
      "source": [
        "load_model_cnn_stem_valid_1 = keras.models.load_model('drive/My Drive/Colab Notebooks/Tugas Akhir/PROGRAM/ADD/Hasil Uji/model_cnn_stem_valid_1')\n",
        "\n",
        "y_pred_load_model_cnn_stem_valid_1 = load_model_cnn_stem_valid_1.predict(X_test2, verbose=False)\n",
        "prediction_load_model_cnn_stem_valid_1 = (y_pred_load_model_cnn_stem_valid_1 > 0.5)\n",
        "\n",
        "stemming_y.append(round(hamming_loss(y_test2, prediction_load_model_cnn_stem_valid_1), 4))\n",
        "stemming_y.append(round(time_cnn_stem_valid_1, 4))"
      ],
      "execution_count": null,
      "outputs": [
        {
          "output_type": "stream",
          "name": "stdout",
          "text": [
            "WARNING:tensorflow:Model was constructed with shape (None, 732) for input KerasTensor(type_spec=TensorSpec(shape=(None, 732), dtype=tf.float32, name='embedding_2_input'), name='embedding_2_input', description=\"created by layer 'embedding_2_input'\"), but it was called on an input with incompatible shape (None, 100).\n"
          ]
        }
      ]
    },
    {
      "cell_type": "code",
      "metadata": {
        "colab": {
          "base_uri": "https://localhost:8080/"
        },
        "id": "WjRggb-Lu9oM",
        "outputId": "88f38b6a-73b4-4d3a-f7da-5cc6184a17c9"
      },
      "source": [
        "load_model_cnn_stem_valid_3 = keras.models.load_model('drive/My Drive/Colab Notebooks/Tugas Akhir/PROGRAM/ADD/Hasil Uji/model_cnn_stem_valid_3')\n",
        "\n",
        "y_pred_load_model_cnn_stem_valid_3 = load_model_cnn_stem_valid_3.predict(X_test2, verbose=False)\n",
        "prediction_load_model_cnn_stem_valid_3 = (y_pred_load_model_cnn_stem_valid_3 > 0.5)\n",
        "\n",
        "stemming_y.append(round(hamming_loss(y_test2, prediction_load_model_cnn_stem_valid_3), 4))\n",
        "stemming_y.append(round(time_cnn_stem_valid_3, 4))"
      ],
      "execution_count": null,
      "outputs": [
        {
          "output_type": "stream",
          "name": "stdout",
          "text": [
            "WARNING:tensorflow:Model was constructed with shape (None, 732) for input KerasTensor(type_spec=TensorSpec(shape=(None, 732), dtype=tf.float32, name='embedding_12_input'), name='embedding_12_input', description=\"created by layer 'embedding_12_input'\"), but it was called on an input with incompatible shape (None, 100).\n"
          ]
        }
      ]
    },
    {
      "cell_type": "code",
      "metadata": {
        "colab": {
          "base_uri": "https://localhost:8080/"
        },
        "id": "fFXmB5x-vT2q",
        "outputId": "ae242fca-7654-4b09-ece4-5a41a38ee3eb"
      },
      "source": [
        "load_model_cnn_same_1 = keras.models.load_model('drive/My Drive/Colab Notebooks/Tugas Akhir/PROGRAM/ADD/Hasil Uji/model_cnn_same_1')\n",
        "\n",
        "y_pred_load_model_cnn_same_1 = load_model_cnn_same_1.predict(X_test3, verbose=False)\n",
        "prediction_load_model_cnn_same_1 = (y_pred_load_model_cnn_same_1 > 0.5)\n",
        "\n",
        "stemming_x = []\n",
        "stemming_x.append(round(hamming_loss(y_test3, prediction_load_model_cnn_same_1), 4))\n",
        "stemming_x.append(round(time_cnn_same_1, 4))"
      ],
      "execution_count": null,
      "outputs": [
        {
          "output_type": "stream",
          "name": "stdout",
          "text": [
            "WARNING:tensorflow:Model was constructed with shape (None, 732) for input KerasTensor(type_spec=TensorSpec(shape=(None, 732), dtype=tf.float32, name='embedding_4_input'), name='embedding_4_input', description=\"created by layer 'embedding_4_input'\"), but it was called on an input with incompatible shape (None, 100).\n"
          ]
        }
      ]
    },
    {
      "cell_type": "code",
      "metadata": {
        "colab": {
          "base_uri": "https://localhost:8080/"
        },
        "id": "12RrlWWWvpJi",
        "outputId": "1593ed8a-6479-4b92-9e68-72e0225b226e"
      },
      "source": [
        "load_model_cnn_same_3 = keras.models.load_model('drive/My Drive/Colab Notebooks/Tugas Akhir/PROGRAM/ADD/Hasil Uji/model_cnn_same_3')\n",
        "\n",
        "y_pred_load_model_cnn_same_3 = load_model_cnn_same_3.predict(X_test3, verbose=False)\n",
        "prediction_load_model_cnn_same_3 = (y_pred_load_model_cnn_same_3 > 0.5)\n",
        "\n",
        "stemming_x.append(round(hamming_loss(y_test3, prediction_load_model_cnn_same_3), 4))\n",
        "stemming_x.append(round(time_cnn_same_3, 4))"
      ],
      "execution_count": null,
      "outputs": [
        {
          "output_type": "stream",
          "name": "stdout",
          "text": [
            "WARNING:tensorflow:Model was constructed with shape (None, 732) for input KerasTensor(type_spec=TensorSpec(shape=(None, 732), dtype=tf.float32, name='embedding_5_input'), name='embedding_5_input', description=\"created by layer 'embedding_5_input'\"), but it was called on an input with incompatible shape (None, 100).\n"
          ]
        }
      ]
    },
    {
      "cell_type": "code",
      "metadata": {
        "colab": {
          "base_uri": "https://localhost:8080/"
        },
        "id": "cnMQKWzHv13m",
        "outputId": "e1df2684-6457-4634-9415-7a8e9c9dee0d"
      },
      "source": [
        "load_model_cnn_valid_1 = keras.models.load_model('drive/My Drive/Colab Notebooks/Tugas Akhir/PROGRAM/ADD/Hasil Uji/model_cnn_valid_1')\n",
        "\n",
        "y_pred_load_model_cnn_valid_1 = load_model_cnn_valid_1.predict(X_test3, verbose=False)\n",
        "prediction_load_model_cnn_valid_1 = (y_pred_load_model_cnn_valid_1 > 0.5)\n",
        "\n",
        "stemming_x.append(round(hamming_loss(y_test3, prediction_load_model_cnn_valid_1), 4))\n",
        "stemming_x.append(round(time_cnn_valid_1, 4))"
      ],
      "execution_count": null,
      "outputs": [
        {
          "output_type": "stream",
          "name": "stdout",
          "text": [
            "WARNING:tensorflow:Model was constructed with shape (None, 732) for input KerasTensor(type_spec=TensorSpec(shape=(None, 732), dtype=tf.float32, name='embedding_11_input'), name='embedding_11_input', description=\"created by layer 'embedding_11_input'\"), but it was called on an input with incompatible shape (None, 100).\n"
          ]
        }
      ]
    },
    {
      "cell_type": "code",
      "metadata": {
        "colab": {
          "base_uri": "https://localhost:8080/"
        },
        "id": "NEyiNAcTxm0l",
        "outputId": "380c6229-e1d0-4482-94be-47c561798c2b"
      },
      "source": [
        "load_model_cnn_valid_3 = keras.models.load_model('drive/My Drive/Colab Notebooks/Tugas Akhir/PROGRAM/ADD/Hasil Uji/model_cnn_valid_3')\n",
        "\n",
        "y_pred_load_model_cnn_valid_3 = load_model_cnn_valid_3.predict(X_test3, verbose=False)\n",
        "prediction_load_model_cnn_valid_3 = (y_pred_load_model_cnn_valid_3 > 0.5)\n",
        "\n",
        "stemming_x.append(round(hamming_loss(y_test3, prediction_load_model_cnn_valid_3), 4))\n",
        "stemming_x.append(round(time_cnn_valid_3, 4))"
      ],
      "execution_count": null,
      "outputs": [
        {
          "output_type": "stream",
          "name": "stdout",
          "text": [
            "WARNING:tensorflow:Model was constructed with shape (None, 732) for input KerasTensor(type_spec=TensorSpec(shape=(None, 732), dtype=tf.float32, name='embedding_14_input'), name='embedding_14_input', description=\"created by layer 'embedding_14_input'\"), but it was called on an input with incompatible shape (None, 100).\n"
          ]
        }
      ]
    },
    {
      "cell_type": "code",
      "metadata": {
        "colab": {
          "base_uri": "https://localhost:8080/"
        },
        "id": "Z7xfpFSTk00t",
        "outputId": "e06fd1d4-a386-4b8b-9b80-f85b714d2c84"
      },
      "source": [
        "for i in range(len(stemming_y)):\n",
        "    print(stemming_y[i])"
      ],
      "execution_count": null,
      "outputs": [
        {
          "output_type": "stream",
          "name": "stdout",
          "text": [
            "0.0794\n",
            "68.5111\n",
            "0.0886\n",
            "35.878\n",
            "0.0702\n",
            "67.6085\n",
            "0.0877\n",
            "36.1323\n"
          ]
        }
      ]
    },
    {
      "cell_type": "code",
      "metadata": {
        "colab": {
          "base_uri": "https://localhost:8080/"
        },
        "id": "pQEtV2u87BgK",
        "outputId": "bd068112-8af2-493d-aec9-b6306670165f"
      },
      "source": [
        "# HL\n",
        "for i in range(len(stemming_y)):\n",
        "  if i % 2 == 0:\n",
        "    print(stemming_y[i])"
      ],
      "execution_count": null,
      "outputs": [
        {
          "output_type": "stream",
          "name": "stdout",
          "text": [
            "0.0794\n",
            "0.0886\n",
            "0.0702\n",
            "0.0877\n"
          ]
        }
      ]
    },
    {
      "cell_type": "code",
      "metadata": {
        "colab": {
          "base_uri": "https://localhost:8080/"
        },
        "id": "TUqDgumG7IHY",
        "outputId": "ff39e398-1400-4668-9369-4244039fbc61"
      },
      "source": [
        "# HL\n",
        "for i in range(len(stemming_x)):\n",
        "  if i % 2 == 0:\n",
        "    print(stemming_x[i])"
      ],
      "execution_count": null,
      "outputs": [
        {
          "output_type": "stream",
          "name": "stdout",
          "text": [
            "0.0794\n",
            "0.0844\n",
            "0.0693\n",
            "0.0844\n"
          ]
        }
      ]
    },
    {
      "cell_type": "code",
      "metadata": {
        "colab": {
          "base_uri": "https://localhost:8080/"
        },
        "id": "MDUIJQzYoFEv",
        "outputId": "884359cd-b839-4cc0-9462-6ed448494799"
      },
      "source": [
        "for i in range(len(stemming_x)):\n",
        "    print(stemming_x[i])"
      ],
      "execution_count": null,
      "outputs": [
        {
          "output_type": "stream",
          "name": "stdout",
          "text": [
            "0.0794\n",
            "68.392\n",
            "0.0844\n",
            "35.9005\n",
            "0.0693\n",
            "67.7613\n",
            "0.0844\n",
            "36.2349\n"
          ]
        }
      ]
    },
    {
      "cell_type": "code",
      "metadata": {
        "colab": {
          "base_uri": "https://localhost:8080/"
        },
        "id": "__Nxs1Tek-ri",
        "outputId": "93391516-2c51-4a7a-81ae-1c8e212631a8"
      },
      "source": [
        "# waktu\n",
        "for i in range(len(stemming_y)):\n",
        "  if i % 2 != 0:\n",
        "    print(stemming_y[i])"
      ],
      "execution_count": null,
      "outputs": [
        {
          "output_type": "stream",
          "name": "stdout",
          "text": [
            "68.5111\n",
            "35.878\n",
            "67.6085\n",
            "36.1323\n"
          ]
        }
      ]
    },
    {
      "cell_type": "code",
      "metadata": {
        "colab": {
          "base_uri": "https://localhost:8080/"
        },
        "id": "zGhMYSquxzDF",
        "outputId": "73039f3e-3da2-4752-a168-1296efad1a44"
      },
      "source": [
        "# waktu\n",
        "for i in range(len(stemming_x)):\n",
        "  if i % 2 != 0:\n",
        "    print(stemming_x[i])"
      ],
      "execution_count": null,
      "outputs": [
        {
          "output_type": "stream",
          "name": "stdout",
          "text": [
            "68.392\n",
            "35.9005\n",
            "67.7613\n",
            "36.2349\n"
          ]
        }
      ]
    },
    {
      "cell_type": "markdown",
      "metadata": {
        "id": "elwAm3ep5VPL"
      },
      "source": [
        "**RNNS**"
      ]
    },
    {
      "cell_type": "code",
      "metadata": {
        "id": "7eFZ9u03t378"
      },
      "source": [
        "def get_rnns_model():\n",
        "  opt = tf.keras.optimizers.Adam(learning_rate=0.01)\n",
        "  model = tf.keras.Sequential()\n",
        "  model.add(tf.keras.layers.Embedding(input_dim=2000, input_length=732, output_dim=100))\n",
        "  model.add(tf.keras.layers.SimpleRNN(512, return_sequences=True))\n",
        "  model.add(tf.keras.layers.GlobalMaxPool1D())\n",
        "  model.add(tf.keras.layers.Dropout(0.5))\n",
        "  model.add(tf.keras.layers.Dense(3, activation='sigmoid'))\n",
        "  model.compile(loss='binary_crossentropy', optimizer=opt, metrics=['accuracy'])\n",
        "  return model"
      ],
      "execution_count": null,
      "outputs": []
    },
    {
      "cell_type": "code",
      "metadata": {
        "id": "3f6Ia7iA2quF",
        "colab": {
          "base_uri": "https://localhost:8080/"
        },
        "outputId": "6c756501-6c05-460a-dfe0-927923be2da6"
      },
      "source": [
        "model_rnns = get_rnns_model()\n",
        "time_rnns = time.time()\n",
        "model_fit_rnns = model_rnns.fit(X_train3, y_train3, epochs=15, validation_data=(X_test3, y_test3), verbose=False, batch_size=32)\n",
        "time_rnns = time.time() - time_rnns\n",
        "# model_rnns.save('drive/My Drive/Colab Notebooks/Tugas Akhir/PROGRAM/ADD/Hasil Uji/model_rnns_nostem')"
      ],
      "execution_count": null,
      "outputs": [
        {
          "output_type": "stream",
          "name": "stdout",
          "text": [
            "WARNING:tensorflow:Model was constructed with shape (None, 732) for input KerasTensor(type_spec=TensorSpec(shape=(None, 732), dtype=tf.float32, name='embedding_18_input'), name='embedding_18_input', description=\"created by layer 'embedding_18_input'\"), but it was called on an input with incompatible shape (None, 100).\n",
            "WARNING:tensorflow:Model was constructed with shape (None, 732) for input KerasTensor(type_spec=TensorSpec(shape=(None, 732), dtype=tf.float32, name='embedding_18_input'), name='embedding_18_input', description=\"created by layer 'embedding_18_input'\"), but it was called on an input with incompatible shape (None, 100).\n",
            "WARNING:tensorflow:Model was constructed with shape (None, 732) for input KerasTensor(type_spec=TensorSpec(shape=(None, 732), dtype=tf.float32, name='embedding_18_input'), name='embedding_18_input', description=\"created by layer 'embedding_18_input'\"), but it was called on an input with incompatible shape (None, 100).\n"
          ]
        }
      ]
    },
    {
      "cell_type": "markdown",
      "metadata": {
        "id": "IipWxae4uwfb"
      },
      "source": [
        "**LOAD MODEL RNN**"
      ]
    },
    {
      "cell_type": "code",
      "metadata": {
        "colab": {
          "base_uri": "https://localhost:8080/"
        },
        "id": "Tvk_YTxlt_Pd",
        "outputId": "7f39ae69-c14f-452a-a8a1-ebe53853b56a"
      },
      "source": [
        "load_rnns = keras.models.load_model('drive/My Drive/Colab Notebooks/Tugas Akhir/PROGRAM/ADD/Hasil Uji/model_rnns_nostem')\n",
        "\n",
        "y_pred_load_rnns = load_rnns.predict(X_test3, verbose=False)\n",
        "prediction_load_rnns = (y_pred_load_rnns > 0.5)\n",
        "\n",
        "load_rnns = []\n",
        "load_rnns.append(round(hamming_loss(y_test3, prediction_load_rnns), 4))\n",
        "load_rnns.append(round(time_rnns, 4))"
      ],
      "execution_count": null,
      "outputs": [
        {
          "output_type": "stream",
          "name": "stdout",
          "text": [
            "WARNING:tensorflow:Model was constructed with shape (None, 732) for input KerasTensor(type_spec=TensorSpec(shape=(None, 732), dtype=tf.float32, name='embedding_16_input'), name='embedding_16_input', description=\"created by layer 'embedding_16_input'\"), but it was called on an input with incompatible shape (None, 100).\n"
          ]
        }
      ]
    },
    {
      "cell_type": "code",
      "metadata": {
        "colab": {
          "base_uri": "https://localhost:8080/"
        },
        "id": "GSLgwGx_vFA2",
        "outputId": "5fdd3c48-a4df-4c63-9b61-0270334b4b27"
      },
      "source": [
        "print(load_rnns)"
      ],
      "execution_count": null,
      "outputs": [
        {
          "output_type": "stream",
          "name": "stdout",
          "text": [
            "[0.1145, 262.8086]\n"
          ]
        }
      ]
    },
    {
      "cell_type": "markdown",
      "metadata": {
        "id": "hKriaKCK5Xzm"
      },
      "source": [
        "**LSTM**"
      ]
    },
    {
      "cell_type": "code",
      "metadata": {
        "id": "xh-cKdscwdAX"
      },
      "source": [
        "def get_lstm_model():\n",
        "  opt = tf.keras.optimizers.Adam(learning_rate=0.01)\n",
        "  model = tf.keras.Sequential()\n",
        "  model.add(tf.keras.layers.Embedding(input_dim=2000, input_length=732, output_dim=100))\n",
        "  model.add(tf.keras.layers.LSTM(512, return_sequences=True))\n",
        "  model.add(tf.keras.layers.GlobalMaxPool1D())\n",
        "  model.add(tf.keras.layers.Dropout(0.5))\n",
        "  model.add(tf.keras.layers.Dense(3, activation='sigmoid'))\n",
        "  model.compile(loss='binary_crossentropy', optimizer=opt, metrics=['categorical_accuracy'])\n",
        "  return model"
      ],
      "execution_count": null,
      "outputs": []
    },
    {
      "cell_type": "code",
      "metadata": {
        "id": "llZN3a5Y4M55",
        "colab": {
          "base_uri": "https://localhost:8080/"
        },
        "outputId": "07d8f1e9-514a-4c7b-9785-c0fd79a3256f"
      },
      "source": [
        "model_lstm = get_lstm_model()\n",
        "time_lstm = time.time()\n",
        "model_fit_lstm = model_lstm.fit(X_train3, y_train3, epochs=15, validation_data=(X_test3, y_test3), verbose=False, batch_size=32)\n",
        "time_lstm = time.time() - time_lstm\n",
        "# model_lstm.save('drive/My Drive/Colab Notebooks/Tugas Akhir/PROGRAM/ADD/Hasil Uji/model_lstm_nostem')"
      ],
      "execution_count": null,
      "outputs": [
        {
          "output_type": "stream",
          "name": "stdout",
          "text": [
            "WARNING:tensorflow:Model was constructed with shape (None, 732) for input KerasTensor(type_spec=TensorSpec(shape=(None, 732), dtype=tf.float32, name='embedding_19_input'), name='embedding_19_input', description=\"created by layer 'embedding_19_input'\"), but it was called on an input with incompatible shape (None, 100).\n",
            "WARNING:tensorflow:Model was constructed with shape (None, 732) for input KerasTensor(type_spec=TensorSpec(shape=(None, 732), dtype=tf.float32, name='embedding_19_input'), name='embedding_19_input', description=\"created by layer 'embedding_19_input'\"), but it was called on an input with incompatible shape (None, 100).\n",
            "WARNING:tensorflow:Model was constructed with shape (None, 732) for input KerasTensor(type_spec=TensorSpec(shape=(None, 732), dtype=tf.float32, name='embedding_19_input'), name='embedding_19_input', description=\"created by layer 'embedding_19_input'\"), but it was called on an input with incompatible shape (None, 100).\n"
          ]
        }
      ]
    },
    {
      "cell_type": "markdown",
      "metadata": {
        "id": "omsXu6rjvJcJ"
      },
      "source": [
        "**LOAD MODEL LSTM**"
      ]
    },
    {
      "cell_type": "code",
      "metadata": {
        "colab": {
          "base_uri": "https://localhost:8080/"
        },
        "id": "gp05EI9QvMQk",
        "outputId": "9f95a0c8-2b11-47d5-8a10-f626331c6bae"
      },
      "source": [
        "load_lstm = keras.models.load_model('drive/My Drive/Colab Notebooks/Tugas Akhir/PROGRAM/ADD/Hasil Uji/model_lstm_nostem')\n",
        "\n",
        "y_pred_load_lstm = load_lstm.predict(X_test3, verbose=False)\n",
        "prediction_load_lstm = (y_pred_load_lstm > 0.5)\n",
        "\n",
        "load_lstm = []\n",
        "load_lstm.append(round(hamming_loss(y_test3, prediction_load_lstm), 4))\n",
        "load_lstm.append(round(time_lstm, 4))"
      ],
      "execution_count": null,
      "outputs": [
        {
          "output_type": "stream",
          "name": "stdout",
          "text": [
            "WARNING:tensorflow:Model was constructed with shape (None, 732) for input KerasTensor(type_spec=TensorSpec(shape=(None, 732), dtype=tf.float32, name='embedding_17_input'), name='embedding_17_input', description=\"created by layer 'embedding_17_input'\"), but it was called on an input with incompatible shape (None, 100).\n"
          ]
        }
      ]
    },
    {
      "cell_type": "code",
      "metadata": {
        "colab": {
          "base_uri": "https://localhost:8080/"
        },
        "id": "T-ngPbGtveVs",
        "outputId": "e57a0e83-7ce2-4f3a-9f27-4c3580397d3a"
      },
      "source": [
        "print(load_lstm)"
      ],
      "execution_count": null,
      "outputs": [
        {
          "output_type": "stream",
          "name": "stdout",
          "text": [
            "[0.1128, 1006.6985]\n"
          ]
        }
      ]
    }
  ]
}